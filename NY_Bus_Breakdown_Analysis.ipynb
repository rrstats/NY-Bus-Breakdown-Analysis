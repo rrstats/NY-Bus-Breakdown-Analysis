{
  "cells": [
    {
      "cell_type": "markdown",
      "metadata": {
        "id": "view-in-github",
        "colab_type": "text"
      },
      "source": [
        "<a href=\"https://colab.research.google.com/github/rrstats/NY-Bus-Breakdown-Analysis/blob/main/NY_Bus_Breakdown_Analysis.ipynb\" target=\"_parent\"><img src=\"https://colab.research.google.com/assets/colab-badge.svg\" alt=\"Open In Colab\"/></a>"
      ]
    },
    {
      "cell_type": "code",
      "execution_count": null,
      "id": "441eccbc",
      "metadata": {
        "id": "441eccbc"
      },
      "outputs": [],
      "source": [
        "from datascience import*\n",
        "import numpy as np\n",
        "\n",
        "import warnings\n",
        "warnings.simplefilter(action='ignore', category=np.VisibleDeprecationWarning)\n",
        "\n",
        "%matplotlib inline\n",
        "import matplotlib.pyplot as plots\n",
        "plots.style.use('fivethirtyeight')"
      ]
    },
    {
      "cell_type": "code",
      "source": [
        ""
      ],
      "metadata": {
        "id": "QOvbypgJwkuV"
      },
      "id": "QOvbypgJwkuV",
      "execution_count": null,
      "outputs": []
    },
    {
      "cell_type": "code",
      "source": [
        "from google.colab import drive\n",
        "drive.mount('/content/drive')"
      ],
      "metadata": {
        "id": "ozRDWmdTOyeD"
      },
      "id": "ozRDWmdTOyeD",
      "execution_count": null,
      "outputs": []
    },
    {
      "cell_type": "code",
      "execution_count": null,
      "id": "2d509ab7",
      "metadata": {
        "id": "2d509ab7"
      },
      "outputs": [],
      "source": [
        "def allchart(one,two, tabletoplot):\n",
        "    arr = bb.pivot(two, one)[0]\n",
        "    for i in range(0, len(arr)-1):\n",
        "        bbx = bb.pivot(one, two)\n",
        "        bbx = bbx.select(two, arr[i]).sort(arr[i], descending=True)\n",
        "        bbx.barh(two)\n",
        "        \n",
        "    \n",
        "    #Interchanged the variables\n",
        "    #bb.pivot(two, one)\n",
        "#     arr = ['Accident', 'Delayed by School', 'Flat Tire', 'Heavy Traffic',\n",
        "#        'Late return from Field Trip', 'Mechanical Problem', 'Other',\n",
        "#        'Problem Run', 'Weather Conditions', 'Won`t Start'],\n",
        "    "
      ]
    },
    {
      "cell_type": "code",
      "execution_count": null,
      "id": "8c80950c",
      "metadata": {
        "id": "8c80950c"
      },
      "outputs": [],
      "source": [
        "#Find what's common\n",
        "#.join('x', 'which table you need to join', 'x')\n",
        "#.join('x called in 1st table', 'what you need to join', 'x called in second table')"
      ]
    },
    {
      "cell_type": "code",
      "execution_count": null,
      "id": "d3b99b68",
      "metadata": {
        "id": "d3b99b68"
      },
      "outputs": [],
      "source": [
        "#For smaller datasets, fewer bins should be sufficient"
      ]
    },
    {
      "cell_type": "markdown",
      "id": "263c3cfb",
      "metadata": {
        "id": "263c3cfb"
      },
      "source": [
        ""
      ]
    },
    {
      "cell_type": "code",
      "execution_count": null,
      "id": "009c5428",
      "metadata": {
        "id": "009c5428"
      },
      "outputs": [],
      "source": [
        ""
      ]
    },
    {
      "cell_type": "markdown",
      "id": "56db1061",
      "metadata": {
        "id": "56db1061"
      },
      "source": [
        "## Bus Breakdown\n"
      ]
    },
    {
      "cell_type": "code",
      "execution_count": null,
      "id": "6c5ad7b6",
      "metadata": {
        "colab": {
          "base_uri": "https://localhost:8080/",
          "height": 794
        },
        "id": "6c5ad7b6",
        "outputId": "1671fbdd-6d4e-4ced-bb21-283eaac33d74"
      },
      "outputs": [
        {
          "output_type": "stream",
          "name": "stderr",
          "text": [
            "/usr/local/lib/python3.7/dist-packages/ipykernel_launcher.py:4: DtypeWarning: Columns (17) have mixed types.Specify dtype option on import or set low_memory=False.\n",
            "  after removing the cwd from sys.path.\n"
          ]
        },
        {
          "output_type": "execute_result",
          "data": {
            "text/plain": [
              "School_Year | Busbreakdown_ID | Run_Type          | Bus_No | Route_Number | Reason             | Schools_Serviced      | Occurred_On            | Created_On             | Boro          | Bus_Company_Name                   | How_Long_Delayed | Number_Of_Students_On_The_Bus | Has_Contractor_Notified_Schools | Has_Contractor_Notified_Parents | Have_You_Alerted_OPT | Informed_On            | Incident_Number | Last_Updated_On | Breakdown_or_Running_Late | School_Age_or_PreK\n",
              "2020-2021   | 1642643         | General Ed AM Run | 26681  | K2110        | Mechanical Problem | 21,10,02,17,27,21,733 | 01/26/2021 06:24:00 AM | 01/26/2021 06:27:00 AM | Brooklyn      | SNT BUS INC                        | 16-30 Min        | 0                             | Yes                             | No                              | No                   | 01/26/2021 06:27:00 AM | nan             | 01/01/1900 0:00 | Running Late              | School-Age\n",
              "2020-2021   | 1642644         | Special Ed AM Run | 55130  | N844         | Mechanical Problem | 75627                 | 01/26/2021 06:30:00 AM | 01/26/2021 06:37:00 AM | Nassau County | BORO TRANSIT, INC.                 | 16-30 Min        | 0                             | No                              | No                              | No                   | 01/26/2021 06:37:00 AM | nan             | 01/01/1900 0:00 | Running Late              | School-Age\n",
              "2020-2021   | 1642645         | Special Ed AM Run | 1833   | L319         | Flat Tire          | 13685                 | 01/26/2021 06:37:00 AM | 01/26/2021 06:38:00 AM | Brooklyn      | B & F SKILLED INC.(B2192)          | 31-45 Min        | 0                             | Yes                             | Yes                             | No                   | 01/26/2021 06:38:00 AM | nan             | 01/01/1900 0:00 | Running Late              | School-Age\n",
              "2020-2021   | 1642646         | Special Ed AM Run | 16383  | K191         | Mechanical Problem | 1,93,46,19,364        | 01/26/2021 06:29:00 AM | 01/26/2021 06:41:00 AM | Brooklyn      | BORO TRANSIT, INC.                 | 0-15 Min         | 0                             | Yes                             | Yes                             | No                   | 01/26/2021 06:41:00 AM | nan             | 01/01/1900 0:00 | Running Late              | School-Age\n",
              "2021-2022   | 1671963         | General Ed AM Run | 2665   | X2124        | Heavy Traffic      | 10599                 | 10/19/2021 06:50:00 AM | 10/19/2021 06:53:00 AM | Bronx         | BOBBY`S BUS CO. INC.               | nan              | 0                             | Yes                             | Yes                             | No                   | 10/19/2021 06:53:00 AM | nan             | 01/01/1900 0:00 | Breakdown                 | School-Age\n",
              "2021-2022   | 1673272         | General Ed AM Run | 472    | R1133        | Heavy Traffic      | 3,10,51,31,706        | 10/21/2021 07:30:00 AM | 10/21/2021 07:53:00 AM | Staten Island | PIONEER TRANSPORTATION CORP        | 16-30 Min        | 0                             | No                              | No                              | No                   | 10/21/2021 07:53:00 AM | nan             | 01/01/1900 0:00 | Running Late              | School-Age\n",
              "2021-2022   | 1673291         | Special Ed AM Run | 1446   | N011         | Problem Run        | 2632                  | 10/21/2021 07:56:00 AM | 10/21/2021 07:56:00 AM | Manhattan     | LEESEL TRANSPORTATION CORP (B2192) | 46-60 Min        | 1                             | Yes                             | Yes                             | No                   | 10/21/2021 07:56:00 AM | nan             | 01/01/1900 0:00 | Running Late              | School-Age\n",
              "2021-2022   | 1673376         | Special Ed PM Run | 1929   | N141         | Problem Run        | 6100                  | 10/21/2021 01:30:00 PM | 10/21/2021 01:31:00 PM | Manhattan     | LEESEL TRANSPORTATION CORP (B2192) | 46-60 Min        | 0                             | Yes                             | Yes                             | No                   | 10/21/2021 01:31:00 PM | nan             | 01/01/1900 0:00 | Running Late              | School-Age\n",
              "2021-2022   | 1673534         | Special Ed AM Run | 10437  | K276         | Problem Run        | 19020                 | 10/22/2021 06:15:00 AM | 10/22/2021 06:25:00 AM | Brooklyn      | BORO TRANSIT, INC.                 | 46-60 Min        | 0                             | Yes                             | Yes                             | No                   | 10/22/2021 06:25:00 AM | nan             | 01/01/1900 0:00 | Running Late              | School-Age\n",
              "2021-2022   | 1673553         | Special Ed AM Run | 74644  | X164         | Heavy Traffic      | 1,00,37,10,488        | 10/22/2021 06:25:00 AM | 10/22/2021 06:35:00 AM | Bronx         | VAN TRANS LLC (B2192)              | 0-15 Min         | 0                             | Yes                             | Yes                             | No                   | 10/22/2021 06:35:00 AM | nan             | 01/01/1900 0:00 | Running Late              | School-Age\n",
              "... (46154 rows omitted)"
            ],
            "text/html": [
              "<table border=\"1\" class=\"dataframe\">\n",
              "    <thead>\n",
              "        <tr>\n",
              "            <th>School_Year</th> <th>Busbreakdown_ID</th> <th>Run_Type</th> <th>Bus_No</th> <th>Route_Number</th> <th>Reason</th> <th>Schools_Serviced</th> <th>Occurred_On</th> <th>Created_On</th> <th>Boro</th> <th>Bus_Company_Name</th> <th>How_Long_Delayed</th> <th>Number_Of_Students_On_The_Bus</th> <th>Has_Contractor_Notified_Schools</th> <th>Has_Contractor_Notified_Parents</th> <th>Have_You_Alerted_OPT</th> <th>Informed_On</th> <th>Incident_Number</th> <th>Last_Updated_On</th> <th>Breakdown_or_Running_Late</th> <th>School_Age_or_PreK</th>\n",
              "        </tr>\n",
              "    </thead>\n",
              "    <tbody>\n",
              "        <tr>\n",
              "            <td>2020-2021  </td> <td>1642643        </td> <td>General Ed AM Run</td> <td>26681 </td> <td>K2110       </td> <td>Mechanical Problem</td> <td>21,10,02,17,27,21,733</td> <td>01/26/2021 06:24:00 AM</td> <td>01/26/2021 06:27:00 AM</td> <td>Brooklyn     </td> <td>SNT BUS INC                       </td> <td>16-30 Min       </td> <td>0                            </td> <td>Yes                            </td> <td>No                             </td> <td>No                  </td> <td>01/26/2021 06:27:00 AM</td> <td>nan            </td> <td>01/01/1900 0:00</td> <td>Running Late             </td> <td>School-Age        </td>\n",
              "        </tr>\n",
              "        <tr>\n",
              "            <td>2020-2021  </td> <td>1642644        </td> <td>Special Ed AM Run</td> <td>55130 </td> <td>N844        </td> <td>Mechanical Problem</td> <td>75627                </td> <td>01/26/2021 06:30:00 AM</td> <td>01/26/2021 06:37:00 AM</td> <td>Nassau County</td> <td>BORO TRANSIT, INC.                </td> <td>16-30 Min       </td> <td>0                            </td> <td>No                             </td> <td>No                             </td> <td>No                  </td> <td>01/26/2021 06:37:00 AM</td> <td>nan            </td> <td>01/01/1900 0:00</td> <td>Running Late             </td> <td>School-Age        </td>\n",
              "        </tr>\n",
              "        <tr>\n",
              "            <td>2020-2021  </td> <td>1642645        </td> <td>Special Ed AM Run</td> <td>1833  </td> <td>L319        </td> <td>Flat Tire         </td> <td>13685                </td> <td>01/26/2021 06:37:00 AM</td> <td>01/26/2021 06:38:00 AM</td> <td>Brooklyn     </td> <td>B & F SKILLED INC.(B2192)         </td> <td>31-45 Min       </td> <td>0                            </td> <td>Yes                            </td> <td>Yes                            </td> <td>No                  </td> <td>01/26/2021 06:38:00 AM</td> <td>nan            </td> <td>01/01/1900 0:00</td> <td>Running Late             </td> <td>School-Age        </td>\n",
              "        </tr>\n",
              "        <tr>\n",
              "            <td>2020-2021  </td> <td>1642646        </td> <td>Special Ed AM Run</td> <td>16383 </td> <td>K191        </td> <td>Mechanical Problem</td> <td>1,93,46,19,364       </td> <td>01/26/2021 06:29:00 AM</td> <td>01/26/2021 06:41:00 AM</td> <td>Brooklyn     </td> <td>BORO TRANSIT, INC.                </td> <td>0-15 Min        </td> <td>0                            </td> <td>Yes                            </td> <td>Yes                            </td> <td>No                  </td> <td>01/26/2021 06:41:00 AM</td> <td>nan            </td> <td>01/01/1900 0:00</td> <td>Running Late             </td> <td>School-Age        </td>\n",
              "        </tr>\n",
              "        <tr>\n",
              "            <td>2021-2022  </td> <td>1671963        </td> <td>General Ed AM Run</td> <td>2665  </td> <td>X2124       </td> <td>Heavy Traffic     </td> <td>10599                </td> <td>10/19/2021 06:50:00 AM</td> <td>10/19/2021 06:53:00 AM</td> <td>Bronx        </td> <td>BOBBY`S BUS CO. INC.              </td> <td>nan             </td> <td>0                            </td> <td>Yes                            </td> <td>Yes                            </td> <td>No                  </td> <td>10/19/2021 06:53:00 AM</td> <td>nan            </td> <td>01/01/1900 0:00</td> <td>Breakdown                </td> <td>School-Age        </td>\n",
              "        </tr>\n",
              "        <tr>\n",
              "            <td>2021-2022  </td> <td>1673272        </td> <td>General Ed AM Run</td> <td>472   </td> <td>R1133       </td> <td>Heavy Traffic     </td> <td>3,10,51,31,706       </td> <td>10/21/2021 07:30:00 AM</td> <td>10/21/2021 07:53:00 AM</td> <td>Staten Island</td> <td>PIONEER TRANSPORTATION CORP       </td> <td>16-30 Min       </td> <td>0                            </td> <td>No                             </td> <td>No                             </td> <td>No                  </td> <td>10/21/2021 07:53:00 AM</td> <td>nan            </td> <td>01/01/1900 0:00</td> <td>Running Late             </td> <td>School-Age        </td>\n",
              "        </tr>\n",
              "        <tr>\n",
              "            <td>2021-2022  </td> <td>1673291        </td> <td>Special Ed AM Run</td> <td>1446  </td> <td>N011        </td> <td>Problem Run       </td> <td>2632                 </td> <td>10/21/2021 07:56:00 AM</td> <td>10/21/2021 07:56:00 AM</td> <td>Manhattan    </td> <td>LEESEL TRANSPORTATION CORP (B2192)</td> <td>46-60 Min       </td> <td>1                            </td> <td>Yes                            </td> <td>Yes                            </td> <td>No                  </td> <td>10/21/2021 07:56:00 AM</td> <td>nan            </td> <td>01/01/1900 0:00</td> <td>Running Late             </td> <td>School-Age        </td>\n",
              "        </tr>\n",
              "        <tr>\n",
              "            <td>2021-2022  </td> <td>1673376        </td> <td>Special Ed PM Run</td> <td>1929  </td> <td>N141        </td> <td>Problem Run       </td> <td>6100                 </td> <td>10/21/2021 01:30:00 PM</td> <td>10/21/2021 01:31:00 PM</td> <td>Manhattan    </td> <td>LEESEL TRANSPORTATION CORP (B2192)</td> <td>46-60 Min       </td> <td>0                            </td> <td>Yes                            </td> <td>Yes                            </td> <td>No                  </td> <td>10/21/2021 01:31:00 PM</td> <td>nan            </td> <td>01/01/1900 0:00</td> <td>Running Late             </td> <td>School-Age        </td>\n",
              "        </tr>\n",
              "        <tr>\n",
              "            <td>2021-2022  </td> <td>1673534        </td> <td>Special Ed AM Run</td> <td>10437 </td> <td>K276        </td> <td>Problem Run       </td> <td>19020                </td> <td>10/22/2021 06:15:00 AM</td> <td>10/22/2021 06:25:00 AM</td> <td>Brooklyn     </td> <td>BORO TRANSIT, INC.                </td> <td>46-60 Min       </td> <td>0                            </td> <td>Yes                            </td> <td>Yes                            </td> <td>No                  </td> <td>10/22/2021 06:25:00 AM</td> <td>nan            </td> <td>01/01/1900 0:00</td> <td>Running Late             </td> <td>School-Age        </td>\n",
              "        </tr>\n",
              "        <tr>\n",
              "            <td>2021-2022  </td> <td>1673553        </td> <td>Special Ed AM Run</td> <td>74644 </td> <td>X164        </td> <td>Heavy Traffic     </td> <td>1,00,37,10,488       </td> <td>10/22/2021 06:25:00 AM</td> <td>10/22/2021 06:35:00 AM</td> <td>Bronx        </td> <td>VAN TRANS LLC (B2192)             </td> <td>0-15 Min        </td> <td>0                            </td> <td>Yes                            </td> <td>Yes                            </td> <td>No                  </td> <td>10/22/2021 06:35:00 AM</td> <td>nan            </td> <td>01/01/1900 0:00</td> <td>Running Late             </td> <td>School-Age        </td>\n",
              "        </tr>\n",
              "    </tbody>\n",
              "</table>\n",
              "<p>... (46154 rows omitted)</p>"
            ]
          },
          "metadata": {},
          "execution_count": 259
        }
      ],
      "source": [
        "#(6s)\n",
        "#Original converted to (Occurred_On in 2021) (Number_Of_Students_On_The_Bus 10 to 100)\n",
        "\n",
        "bb = Table.read_table('Bus_Breakdown_and_Delays.csv')\n",
        "bb=bb.where('Occurred_On', are.containing('2021'))\n",
        "bb"
      ]
    },
    {
      "cell_type": "markdown",
      "id": "42158166",
      "metadata": {
        "id": "42158166"
      },
      "source": [
        "## Just look at this number"
      ]
    },
    {
      "cell_type": "code",
      "execution_count": null,
      "id": "e2c4b01d",
      "metadata": {
        "id": "e2c4b01d"
      },
      "outputs": [],
      "source": [
        "# Large number of cases wher Number_Of_Students_On_The_Bus < 10 have been reported"
      ]
    },
    {
      "cell_type": "code",
      "execution_count": null,
      "id": "d8788176",
      "metadata": {
        "colab": {
          "base_uri": "https://localhost:8080/"
        },
        "id": "d8788176",
        "outputId": "e7e6db94-6d54-440c-c24a-01a13a3fd81a"
      },
      "outputs": [
        {
          "output_type": "execute_result",
          "data": {
            "text/plain": [
              "45148"
            ]
          },
          "metadata": {},
          "execution_count": 261
        }
      ],
      "source": [
        "bb.where('Number_Of_Students_On_The_Bus', are.below(10)).sort('Number_Of_Students_On_The_Bus', descending=True).num_rows"
      ]
    },
    {
      "cell_type": "code",
      "execution_count": null,
      "id": "22fa7a81",
      "metadata": {
        "colab": {
          "base_uri": "https://localhost:8080/",
          "height": 760
        },
        "id": "22fa7a81",
        "outputId": "f1ff50b6-4d39-4997-e0d7-1a168293f902"
      },
      "outputs": [
        {
          "output_type": "execute_result",
          "data": {
            "text/plain": [
              "School_Year | Busbreakdown_ID | Run_Type          | Bus_No | Route_Number | Reason             | Schools_Serviced | Occurred_On            | Created_On             | Boro      | Bus_Company_Name            | How_Long_Delayed | Number_Of_Students_On_The_Bus | Has_Contractor_Notified_Schools | Has_Contractor_Notified_Parents | Have_You_Alerted_OPT | Informed_On            | Incident_Number | Last_Updated_On | Breakdown_or_Running_Late | School_Age_or_PreK\n",
              "2021-2022   | 1668746         | General Ed AM Run | 1767   | Q2844        | Problem Run        | 2,81,74,28,220   | 10/07/2021 8:00        | 10/07/2021 8:18        | Queens    | JOFAZ TRANSPORTATION INC.   | 61-90 Min        | 60                            | Yes                             | No                              | No                   | 10/07/2021 8:18        | nan             | 10/07/2021 8:24 | Running Late              | School-Age\n",
              "2021-2022   | 1674317         | General Ed AM Run | 91201  | Q2215        | Heavy Traffic      | 24385            | 10/25/2021 07:15:00 AM | 10/25/2021 07:19:00 AM | Queens    | EMPIRE STATE BUS CORP.      | 16-30 Min        | 55                            | No                              | No                              | No                   | 10/25/2021 07:19:00 AM | nan             | 01/01/1900 0:00 | Running Late              | School-Age\n",
              "2021-2022   | 1679289         | General Ed AM Run | 71810  | Q2216        | Other              | 24005            | 11/05/2021 8:00        | 11/05/2021 8:09        | Queens    | EMPIRE STATE BUS CORP.      | 0-15 Min         | 55                            | No                              | No                              | No                   | 11/05/2021 8:09        | nan             | 01/01/1900 0:00 | Running Late              | School-Age\n",
              "2021-2022   | 1687135         | General Ed AM Run | 784    | X2073        | Heavy Traffic      | 1,11,44,11,685   | 12/06/2021 8:07        | 12/06/2021 8:08        | Bronx     | PIONEER TRANSPORTATION CORP | 0-15 Min         | 53                            | Yes                             | No                              | No                   | 12/06/2021 8:08        | nan             | 01/01/1900 0:00 | Running Late              | School-Age\n",
              "2021-2022   | 1666811         | General Ed AM Run | 781    | X2378        | Heavy Traffic      | 80,23,08,613     | 10/01/2021 7:33        | 10/01/2021 7:35        | Bronx     | PIONEER TRANSPORTATION CORP | 16-30 Min        | 49                            | Yes                             | No                              | No                   | 10/01/2021 7:35        | nan             | 01/01/1900 0:00 | Running Late              | School-Age\n",
              "2021-2022   | 1668997         | General Ed AM Run | 41803  | Q2215        | Heavy Traffic      | 24385            | 10/08/2021 6:45        | 10/08/2021 6:58        | Queens    | EMPIRE STATE BUS CORP.      | 16-30 Min        | 45                            | No                              | No                              | No                   | 10/08/2021 6:58        | nan             | 01/01/1900 0:00 | Running Late              | School-Age\n",
              "2021-2022   | 1686574         | General Ed AM Run | 41804  | Q2216        | Heavy Traffic      | 24005            | 12/03/2021 7:45        | 12/03/2021 7:50        | Queens    | EMPIRE STATE BUS CORP.      | 16-30 Min        | 44                            | No                              | No                              | No                   | 12/03/2021 7:50        | nan             | 01/01/1900 0:00 | Running Late              | School-Age\n",
              "2021-2022   | 1680892         | General Ed AM Run | 6017   | X2056        | Heavy Traffic      | 74,86,07,487     | 11/10/2021 7:54        | 11/10/2021 7:55        | Bronx     | PIONEER TRANSPORTATION CORP | 0-15 Min         | 44                            | Yes                             | No                              | No                   | 11/10/2021 7:55        | nan             | 01/01/1900 0:00 | Running Late              | School-Age\n",
              "2021-2022   | 1676997         | General Ed AM Run | 784    | X2073        | Heavy Traffic      | 1,11,44,11,685   | 10/29/2021 08:07:00 AM | 10/29/2021 08:08:00 AM | Bronx     | PIONEER TRANSPORTATION CORP | 0-15 Min         | 43                            | Yes                             | No                              | No                   | 10/29/2021 08:08:00 AM | nan             | 01/01/1900 0:00 | Running Late              | School-Age\n",
              "2021-2022   | 1685851         | General Ed AM Run | 28764  | M1113        | Mechanical Problem | 2033             | 12/01/2021 8:15        | 12/01/2021 8:25        | Manhattan | SNT BUS INC                 | nan              | 41                            | Yes                             | No                              | No                   | 12/01/2021 8:25        | nan             | 12/01/2021 8:27 | Breakdown                 | School-Age\n",
              "... (990 rows omitted)"
            ],
            "text/html": [
              "<table border=\"1\" class=\"dataframe\">\n",
              "    <thead>\n",
              "        <tr>\n",
              "            <th>School_Year</th> <th>Busbreakdown_ID</th> <th>Run_Type</th> <th>Bus_No</th> <th>Route_Number</th> <th>Reason</th> <th>Schools_Serviced</th> <th>Occurred_On</th> <th>Created_On</th> <th>Boro</th> <th>Bus_Company_Name</th> <th>How_Long_Delayed</th> <th>Number_Of_Students_On_The_Bus</th> <th>Has_Contractor_Notified_Schools</th> <th>Has_Contractor_Notified_Parents</th> <th>Have_You_Alerted_OPT</th> <th>Informed_On</th> <th>Incident_Number</th> <th>Last_Updated_On</th> <th>Breakdown_or_Running_Late</th> <th>School_Age_or_PreK</th>\n",
              "        </tr>\n",
              "    </thead>\n",
              "    <tbody>\n",
              "        <tr>\n",
              "            <td>2021-2022  </td> <td>1668746        </td> <td>General Ed AM Run</td> <td>1767  </td> <td>Q2844       </td> <td>Problem Run       </td> <td>2,81,74,28,220  </td> <td>10/07/2021 8:00       </td> <td>10/07/2021 8:18       </td> <td>Queens   </td> <td>JOFAZ TRANSPORTATION INC.  </td> <td>61-90 Min       </td> <td>60                           </td> <td>Yes                            </td> <td>No                             </td> <td>No                  </td> <td>10/07/2021 8:18       </td> <td>nan            </td> <td>10/07/2021 8:24</td> <td>Running Late             </td> <td>School-Age        </td>\n",
              "        </tr>\n",
              "        <tr>\n",
              "            <td>2021-2022  </td> <td>1674317        </td> <td>General Ed AM Run</td> <td>91201 </td> <td>Q2215       </td> <td>Heavy Traffic     </td> <td>24385           </td> <td>10/25/2021 07:15:00 AM</td> <td>10/25/2021 07:19:00 AM</td> <td>Queens   </td> <td>EMPIRE STATE BUS CORP.     </td> <td>16-30 Min       </td> <td>55                           </td> <td>No                             </td> <td>No                             </td> <td>No                  </td> <td>10/25/2021 07:19:00 AM</td> <td>nan            </td> <td>01/01/1900 0:00</td> <td>Running Late             </td> <td>School-Age        </td>\n",
              "        </tr>\n",
              "        <tr>\n",
              "            <td>2021-2022  </td> <td>1679289        </td> <td>General Ed AM Run</td> <td>71810 </td> <td>Q2216       </td> <td>Other             </td> <td>24005           </td> <td>11/05/2021 8:00       </td> <td>11/05/2021 8:09       </td> <td>Queens   </td> <td>EMPIRE STATE BUS CORP.     </td> <td>0-15 Min        </td> <td>55                           </td> <td>No                             </td> <td>No                             </td> <td>No                  </td> <td>11/05/2021 8:09       </td> <td>nan            </td> <td>01/01/1900 0:00</td> <td>Running Late             </td> <td>School-Age        </td>\n",
              "        </tr>\n",
              "        <tr>\n",
              "            <td>2021-2022  </td> <td>1687135        </td> <td>General Ed AM Run</td> <td>784   </td> <td>X2073       </td> <td>Heavy Traffic     </td> <td>1,11,44,11,685  </td> <td>12/06/2021 8:07       </td> <td>12/06/2021 8:08       </td> <td>Bronx    </td> <td>PIONEER TRANSPORTATION CORP</td> <td>0-15 Min        </td> <td>53                           </td> <td>Yes                            </td> <td>No                             </td> <td>No                  </td> <td>12/06/2021 8:08       </td> <td>nan            </td> <td>01/01/1900 0:00</td> <td>Running Late             </td> <td>School-Age        </td>\n",
              "        </tr>\n",
              "        <tr>\n",
              "            <td>2021-2022  </td> <td>1666811        </td> <td>General Ed AM Run</td> <td>781   </td> <td>X2378       </td> <td>Heavy Traffic     </td> <td>80,23,08,613    </td> <td>10/01/2021 7:33       </td> <td>10/01/2021 7:35       </td> <td>Bronx    </td> <td>PIONEER TRANSPORTATION CORP</td> <td>16-30 Min       </td> <td>49                           </td> <td>Yes                            </td> <td>No                             </td> <td>No                  </td> <td>10/01/2021 7:35       </td> <td>nan            </td> <td>01/01/1900 0:00</td> <td>Running Late             </td> <td>School-Age        </td>\n",
              "        </tr>\n",
              "        <tr>\n",
              "            <td>2021-2022  </td> <td>1668997        </td> <td>General Ed AM Run</td> <td>41803 </td> <td>Q2215       </td> <td>Heavy Traffic     </td> <td>24385           </td> <td>10/08/2021 6:45       </td> <td>10/08/2021 6:58       </td> <td>Queens   </td> <td>EMPIRE STATE BUS CORP.     </td> <td>16-30 Min       </td> <td>45                           </td> <td>No                             </td> <td>No                             </td> <td>No                  </td> <td>10/08/2021 6:58       </td> <td>nan            </td> <td>01/01/1900 0:00</td> <td>Running Late             </td> <td>School-Age        </td>\n",
              "        </tr>\n",
              "        <tr>\n",
              "            <td>2021-2022  </td> <td>1686574        </td> <td>General Ed AM Run</td> <td>41804 </td> <td>Q2216       </td> <td>Heavy Traffic     </td> <td>24005           </td> <td>12/03/2021 7:45       </td> <td>12/03/2021 7:50       </td> <td>Queens   </td> <td>EMPIRE STATE BUS CORP.     </td> <td>16-30 Min       </td> <td>44                           </td> <td>No                             </td> <td>No                             </td> <td>No                  </td> <td>12/03/2021 7:50       </td> <td>nan            </td> <td>01/01/1900 0:00</td> <td>Running Late             </td> <td>School-Age        </td>\n",
              "        </tr>\n",
              "        <tr>\n",
              "            <td>2021-2022  </td> <td>1680892        </td> <td>General Ed AM Run</td> <td>6017  </td> <td>X2056       </td> <td>Heavy Traffic     </td> <td>74,86,07,487    </td> <td>11/10/2021 7:54       </td> <td>11/10/2021 7:55       </td> <td>Bronx    </td> <td>PIONEER TRANSPORTATION CORP</td> <td>0-15 Min        </td> <td>44                           </td> <td>Yes                            </td> <td>No                             </td> <td>No                  </td> <td>11/10/2021 7:55       </td> <td>nan            </td> <td>01/01/1900 0:00</td> <td>Running Late             </td> <td>School-Age        </td>\n",
              "        </tr>\n",
              "        <tr>\n",
              "            <td>2021-2022  </td> <td>1676997        </td> <td>General Ed AM Run</td> <td>784   </td> <td>X2073       </td> <td>Heavy Traffic     </td> <td>1,11,44,11,685  </td> <td>10/29/2021 08:07:00 AM</td> <td>10/29/2021 08:08:00 AM</td> <td>Bronx    </td> <td>PIONEER TRANSPORTATION CORP</td> <td>0-15 Min        </td> <td>43                           </td> <td>Yes                            </td> <td>No                             </td> <td>No                  </td> <td>10/29/2021 08:08:00 AM</td> <td>nan            </td> <td>01/01/1900 0:00</td> <td>Running Late             </td> <td>School-Age        </td>\n",
              "        </tr>\n",
              "        <tr>\n",
              "            <td>2021-2022  </td> <td>1685851        </td> <td>General Ed AM Run</td> <td>28764 </td> <td>M1113       </td> <td>Mechanical Problem</td> <td>2033            </td> <td>12/01/2021 8:15       </td> <td>12/01/2021 8:25       </td> <td>Manhattan</td> <td>SNT BUS INC                </td> <td>nan             </td> <td>41                           </td> <td>Yes                            </td> <td>No                             </td> <td>No                  </td> <td>12/01/2021 8:25       </td> <td>nan            </td> <td>12/01/2021 8:27</td> <td>Breakdown                </td> <td>School-Age        </td>\n",
              "        </tr>\n",
              "    </tbody>\n",
              "</table>\n",
              "<p>... (990 rows omitted)</p>"
            ]
          },
          "metadata": {},
          "execution_count": 262
        }
      ],
      "source": [
        "bb = bb.where('Number_Of_Students_On_The_Bus', are.between(10,100)).sort('Number_Of_Students_On_The_Bus', descending=True)\n",
        "bb"
      ]
    },
    {
      "cell_type": "code",
      "source": [
        "bb.column('Schools_Serviced')"
      ],
      "metadata": {
        "colab": {
          "base_uri": "https://localhost:8080/"
        },
        "id": "ydDgkz68U_CQ",
        "outputId": "931a9e41-a55f-4f5a-ec4b-cec9b894f6aa"
      },
      "id": "ydDgkz68U_CQ",
      "execution_count": null,
      "outputs": [
        {
          "output_type": "execute_result",
          "data": {
            "text/plain": [
              "array(['2,81,74,28,220', '24385', '24005', '1,11,44,11,685',\n",
              "       '80,23,08,613', '24385', '24005', '74,86,07,487', '1,11,44,11,685',\n",
              "       '2033', '74,86,07,487', '8613', '11003', '74,86,07,487',\n",
              "       '74,86,07,487', '74,86,07,487', '74,86,07,487', '74,86,07,487',\n",
              "       '74,86,07,487', '75,97,07,688', '7688', '1,13,78,11,727',\n",
              "       '80,23,08,613', '1,13,78,11,727', '2,90,35,29,095',\n",
              "       '2,51,63,25,405', '11949', '1,10,68,11,153', '8613', '8345',\n",
              "       '80,23,08,454', '75,97,07,688', '1,13,78,11,727', '72,33,07,672',\n",
              "       '74,86,07,487', '1,11,11,11,454', '74,86,07,487',\n",
              "       '7,02,10,76,84,12,688', '8619', '11648', '3,00,17,30,321', '7688',\n",
              "       '2,20,78,22,431', '1,10,14,11,169', '8345', '75,97,07,688',\n",
              "       '72,33,07,672', '2,12,39,21,727', '2776', '72,33,07,672', '24005',\n",
              "       '1,13,78,11,727', '2,14,62,21,445', '21,44,52,14,62,21,727',\n",
              "       '29,00,22,90,35,29,095', '72,33,07,672', '2,90,02,29,131',\n",
              "       '75,97,07,688', '1,10,35,11,065', '1,10,03,11,175', '29251',\n",
              "       '1,13,78,11,727', '2,21,97,22,634', '7233', '8345', '12007',\n",
              "       '8,54,70,86,13,08,619', '70,21,07,688', '76,15,07,684',\n",
              "       '2,80,37,28,07,22,83,32,00,000', '7818', '2,22,34,22,255', '8345',\n",
              "       '8345', '75,97,07,688', '86,13,08,619', '76,12,07,623',\n",
              "       '21,21,22,12,39,21,684', '8345', 'C481', '1,10,14,11,169',\n",
              "       '2,90,35,29,095', '8345', '1,40,07,14,037', '2,90,35,29,131',\n",
              "       '70,05,07,29,60,74,49,00,000', '1,10,35,11,065', '8345',\n",
              "       '29,00,22,90,35,29,095', '8345', '29,00,22,90,35,29,095', '8345',\n",
              "       '76,12,07,623', '8345', '11,45,41,15,29,11,532', '8345',\n",
              "       '76,12,07,623', '72,33,07,359', '7818', '2,90,35,29,095',\n",
              "       '2,90,35,29,095', '76,12,07,623', '80,23,08,613', 'C601', 'C009',\n",
              "       '29147', '76,12,07,623', 'C481', '1,11,53,11,160',\n",
              "       '7,29,80,75,54,07,623', '1,10,35,11,065', '7688', '2776', 'C244',\n",
              "       '1,43,00,14,45,21,45,62,00,000', '7818', '7,02,10,73,64,07,615',\n",
              "       '1,10,14,11,169', '12456', '30,11,03,422', '24,19,92,43,25,24,343',\n",
              "       'C329', 'C306', '8,00,80,83,67,08,37,50,00,00,00,000', 'C009',\n",
              "       '1,04,85,10,884', '1,11,80,11,505',\n",
              "       '1,74,45,17,52,81,75,49,00,00,00,00,00,00,000', 'C814', 'C518',\n",
              "       'C118', '12486', '2776', '70,25,07,480', 'S634', 'C551', 'C306',\n",
              "       '10599', 'S634', '1,74,45,17,52,81,75,49,00,00,00,00,00,00,000',\n",
              "       '3,01,49,30,227', '30,16,63,05,12,30,577', '14588', 'C306', '7818',\n",
              "       '23,18,42,33,96,23,44,50,00,00,00,000', 'C518', '50,85,05,123',\n",
              "       '7818', 'C306', '29,00,22,90,35,29,095', '2,90,35,29,095', 'C009',\n",
              "       '11,16,91,12,55,11,665', '8,46,40,85,24,08,558',\n",
              "       '1,74,45,17,52,81,75,49,00,00,00,00,00,00,000', 'S224',\n",
              "       '76,12,07,623', '23,39,62,34,45,23,46,00,00,00,00,000', 'C117',\n",
              "       '76,12,07,623', '1,74,45,17,52,81,75,49,00,00,00,00,00,00,000',\n",
              "       '7480', '1,40,50,14,414', '8,06,20,84,68,08,530',\n",
              "       '23,39,62,34,71,23,671', '1,04,85,10,884',\n",
              "       '80,08,08,36,70,83,75,00,000',\n",
              "       '17,44,51,75,28,17,54,90,00,00,00,000', '9555',\n",
              "       '1,74,45,17,52,81,75,49,00,00,00,00,00,00,000', '1,45,88,17,456',\n",
              "       'C041', 'C326', '29251', 'C275A', '2,07,28,23,848',\n",
              "       '23,18,42,33,96,23,44,50,00,00,00,000', '12214', '12467', '3579',\n",
              "       'C481', 'C598', '15406', 'C178', '1,10,06,11,083', '8345', 'C041',\n",
              "       'C518', '70,05,07,29,60,74,49,00,000', 'S634', 'C107',\n",
              "       '2,90,35,29,095', '23,39,62,34,71,23,671', '80,15,08,498',\n",
              "       '1,10,35,11,065', '12486', '8001', '12467', 'C270', 'C117',\n",
              "       '2,12,39,21,281', '2,20,01,22,014', '7480', '74,86,07,487', 'C998',\n",
              "       '1,10,35,11,065', 'C118', '12486', 'C322', 'C814', 'C178',\n",
              "       '1,04,85,10,884', '2,91,16,29,268', 'C306', '2,91,81,29,462',\n",
              "       'C041', 'C118', '80,15,08,498', '11570', '11949', 'C306',\n",
              "       '1,00,80,10,095', 'C551', '3749', '11465', '12467',\n",
              "       '10,08,61,03,40,10,34,20,00,00,00,000', '12486', '11455', '13875',\n",
              "       '29147', 'C326', '1,74,45,17,52,81,75,49,00,00,00,00,00,00,000',\n",
              "       'K053', '1,04,85,10,884', '80,15,08,498', '20535', 'C601', '12007',\n",
              "       '29,00,22,90,35,29,095', '1,40,07,14,037', 'C118', 'S224', '12084',\n",
              "       '29,00,22,90,35,29,095', '1,40,07,14,037', 'C244', '8001', 'C814',\n",
              "       '23,39,62,34,45,23,46,00,00,00,00,000', '26,44,02,64,59,26,505',\n",
              "       'C481', '8,01,50,81,40,08,498', 'C311', 'C579', 'C950',\n",
              "       '29,00,22,90,35,29,095', 'E052A', '2,70,43,27,30,22,74,90,00,000',\n",
              "       '7480', 'C306', '2,33,23,23,39,62,34,45,00,00,00,00,00,00,000',\n",
              "       '12084', '15,04,51,53,71,15,48,10,00,00,00,000', '2,00,06,20,030',\n",
              "       '1,74,45,17,52,81,75,49,00,00,00,00,00,00,000', '80,15,08,498',\n",
              "       '1,43,00,14,45,21,45,62,00,000', '2,90,35,29,095', 'C117',\n",
              "       '23,17,82,34,60,23,59,90,00,00,00,000', '34,06,05,085',\n",
              "       '1,10,35,11,065', 'E052A',\n",
              "       '1,74,45,17,52,81,75,49,00,00,00,00,00,00,000', '2,90,35,29,095',\n",
              "       '1,10,35,11,065', '14,02,31,42,97,14,31,80,00,00,00,000',\n",
              "       '8,46,40,85,24,08,558', '1,10,12,11,737', '11465', '16687',\n",
              "       '1,74,45,17,52,81,75,49,00,00,00,00,00,00,000', '7688',\n",
              "       '1,04,85,10,884', '12084', '11458', 'C481',\n",
              "       '10,30,61,03,31,10,444', '7,03,50,83,45,08,688',\n",
              "       '8,46,40,85,24,08,558', '2,90,35,29,095',\n",
              "       '23,39,62,34,45,23,46,00,00,00,00,000', 'C814', '11458',\n",
              "       '2,90,35,29,095', 'C306', '74,86,07,487', 'C270', '29147',\n",
              "       '1,50,07,15,08,81,54,60,00,000', '1,10,35,11,065', '12084',\n",
              "       '1,11,05,11,556', '1,65,64,17,161', '1,10,89,11,144',\n",
              "       '2,90,35,29,095', '1,04,85,10,884', 'C322', 'C107', 'C009', 'C195',\n",
              "       'C306', '8001', '13,14,11,34,39,13,453', '12084', 'S634', 'C306',\n",
              "       'C814', '12084', 'C244', 'C561', '51,61,05,514', 'C465', 'C505',\n",
              "       'S081', '10,09,41,04,90,10,492', 'S224', '1,24,20,12,450', '15404',\n",
              "       'S661', '1,24,20,12,450', '20,59,02,580', '11465',\n",
              "       '10,30,61,03,31,10,444', '76,12,07,623', 'C311', '12084',\n",
              "       '8,00,80,83,67,08,37,50,00,00,00,000', '1,24,20,12,450',\n",
              "       '1,04,85,10,884', '7,55,40,76,12,08,362', '70,25,07,480',\n",
              "       '82,69,08,410', '21,28,12,14,73,21,69,00,00,00,00,000', '11399',\n",
              "       '1,41,10,14,719', '12084', '72,33,07,672', '7480', '7480', '11458',\n",
              "       'C028', '12467', '1,50,24,15,37,11,54,81,00,000', 'C481',\n",
              "       '1,40,07,14,037', '21,10,12,12,81,21,47,30,00,00,00,000', 'C598',\n",
              "       '7480', 'C601', '1,03,06,10,33,11,03,96,00,000', '12214', 'C178',\n",
              "       '90,03,09,02,01,13,99,10,000', '11458', '2,90,02,29,131', '7480',\n",
              "       '1,11,80,11,505', 'C598', 'C195', 'S661', 'C041', '12084', '12084',\n",
              "       '80,22,08,453', 'C601', 'C178', 'C322', '2,91,09,29,136',\n",
              "       '1,20,61,12,19,01,22,51,00,00,00,00,00,00,000', 'C178',\n",
              "       '8,06,20,84,68,08,530', '10,30,61,03,31,10,444', 'C306',\n",
              "       '1,24,20,12,450', '12084', 'C326', '12486', '1,24,20,12,450',\n",
              "       '1,24,20,12,450', '11465', 'C616', '7480', '7480', '12084',\n",
              "       '10,30,61,03,31,10,444', '70,05,07,29,60,74,49,00,000', '8362',\n",
              "       '12486', '12084', 'C326', 'C601', 'C306', 'C195', '1,24,20,12,450',\n",
              "       '1,10,89,11,144', '12084', '12084', '7480',\n",
              "       '21,28,12,14,73,21,69,00,00,00,00,000',\n",
              "       '2,61,87,26,43,32,64,64,00,000', '12084', '7480',\n",
              "       '8,01,50,81,40,08,498', '21,10,12,12,81,21,47,30,00,00,00,000',\n",
              "       '23,39,62,34,71,23,671', '1,00,80,10,095', 'C445', 'C311', 'C270',\n",
              "       'C598', '23,18,42,33,23,23,39,60,00,00,00,00,00,00,00,00,000',\n",
              "       '12420', '1,04,85,10,884', 'C522',\n",
              "       '2,30,03,23,17,82,34,60,00,00,00,00,00,00,000', '12420', 'C195',\n",
              "       '1,04,85,10,884', '21,44,52,14,62,21,727', '12084',\n",
              "       '2,02,05,20,46,22,10,96,00,000', '2,14,61,21,907', '80,15,08,498',\n",
              "       '76,12,07,623', 'C329', '12486', '2,04,42,20,50,02,06,54,00,000',\n",
              "       'E052A', 'C322', '9,11,40,94,68,09,469', '7480', '12084',\n",
              "       '75,97,07,688', 'C306', '80,22,08,453', '12084', 'C601', 'C445',\n",
              "       'C568', '37,10,03,712', '10,14,11,03,68,10,519',\n",
              "       '11,67,41,16,83,11,689', 'C322', '8,06,20,84,68,08,530',\n",
              "       '1,40,50,14,414', '17,00,51,70,06,17,18,10,00,00,00,000',\n",
              "       '1,11,94,11,433', '12084', '2,40,17,24,229', 'E218', 'C522',\n",
              "       '11465', '26177', 'S200', 'S224', 'C814', '10,33,11,04,44,10,646',\n",
              "       '14,25,71,43,18,14,435', '10,08,61,03,07,10,34,00,00,00,00,000',\n",
              "       '2,50,24,25,237', 'C306', '10,30,61,03,31,10,444',\n",
              "       '2,70,14,27,04,22,71,05,00,000', '21,22,52,14,65,21,756', 'C505',\n",
              "       '12084', 'C306', 'C195', '9579', '10,02,31,04,75,10,497', '11455',\n",
              "       'C522', '21,89,32,26,11,22,63,00,00,00,00,000', '1,00,80,10,095',\n",
              "       'C270', 'C306', '76,12,07,623', '1,24,20,12,450', '7480', 'C814',\n",
              "       '2,20,01,22,014', 'C270', '1,24,20,12,450',\n",
              "       '2,00,19,20,18,72,07,84,00,00,00,00,00,00,000', '1,41,10,14,719',\n",
              "       '2,31,84,23,39,62,34,45,00,00,00,00,00,00,000',\n",
              "       '1,70,07,17,33,31,77,41,00,000', 'C126', '12486', '7480', 'C814',\n",
              "       '10,14,11,03,68,10,519', '27,06,02,70,97,27,306', 'C195', 'C522',\n",
              "       'C195', 'C195', '14414', '1,00,94,10,490', 'C059',\n",
              "       '2,01,02,20,441', '1,70,25,17,460', 'C195', '1,11,94,11,433',\n",
              "       'C457', 'C244', 'C107', 'C326', 'C326', '74,86,07,487',\n",
              "       '1,24,20,12,450', '76,12,07,623', '76,12,07,623',\n",
              "       '2,31,84,23,39,62,34,45,00,00,00,00,00,00,000', '1,24,20,12,450',\n",
              "       '7480', 'C518', 'C041', '30,16,63,05,12,30,577',\n",
              "       '1,74,45,17,52,81,75,49,00,00,00,00,00,00,000', 'C118',\n",
              "       '2,73,51,27,41,52,74,79,00,000', '10,14,11,03,68,10,519', '75029',\n",
              "       '1,24,20,12,450', '3,44,80,34,55,03,475', '23,39,62,34,71,23,671',\n",
              "       'C601', 'C178', '3,10,18,31,020', '2,33,96,23,471', '11012',\n",
              "       'C178', '23,18,42,33,23,23,39,60,00,00,00,00,00,00,00,00,000',\n",
              "       '30,16,63,05,12,30,577', '8,01,50,81,40,08,498', 'C611', '2776',\n",
              "       '21,28,12,14,73,21,69,00,00,00,00,000', '1,40,07,14,037', '11465',\n",
              "       'C522', '7480', '9,08,80,93,11,09,32,70,00,00,00,000', '14132',\n",
              "       '8,01,50,81,40,08,498', '18,20,81,82,44,18,48,00,00,00,00,000',\n",
              "       '7480', 'E068', '21,10,12,12,81,21,47,30,00,00,00,000',\n",
              "       '10,30,61,03,31,10,444', '23,39,62,34,45,23,46,00,00,00,00,000',\n",
              "       '2,01,10,23,58,02,566', '2,04,42,20,50,02,06,54,00,000', '14414',\n",
              "       'C322', '23,18,42,33,23,23,39,60,00,00,00,00,00,00,00,00,000',\n",
              "       '29806', '2,04,42,20,50,02,06,54,00,000',\n",
              "       '23,39,62,34,45,23,46,00,00,00,00,000',\n",
              "       '1,58,54,21,09,92,11,99,00,000', '12084',\n",
              "       '90,03,09,02,01,13,99,10,000', 'C326',\n",
              "       '2,70,43,27,30,22,74,90,00,000', '12420',\n",
              "       '70,05,07,29,60,74,49,00,000', 'C814', '12486', '1,41,20,14,196',\n",
              "       'C598', 'C522', '75029', 'C322', '11465', 'C195', 'C306',\n",
              "       '80,22,08,453', 'C505', '26177', '12084', '28522',\n",
              "       '2,33,96,23,401', '21,11,02,31,00,24,14,00,000', 'S059', '29147',\n",
              "       'C326', '7004', '11476', '1,70,05,17,181', '22446', '12084',\n",
              "       'C623', '1,45,88,17,456', '20,20,52,04,62,21,682',\n",
              "       '1,45,88,17,456', 'C326', '2,61,87,26,52,52,68,17,00,000', 'C584',\n",
              "       'C505', '8022', 'C195', '26,44,02,64,59,26,505', '8362', 'C009',\n",
              "       'C195', '20,03,02,06,30,22,97,00,000', 'C275A',\n",
              "       '7,00,60,73,64,12,217', 'C457', '1,24,20,12,450',\n",
              "       '21,00,72,10,90,21,37,00,00,00,00,000', 'C445', '1,00,32,10,475',\n",
              "       'C568', '2,73,51,27,41,52,74,79,00,000',\n",
              "       '2,70,14,27,04,22,71,05,00,000', '1,40,07,14,037',\n",
              "       '1,24,20,12,450', '1,74,45,17,52,81,75,49,00,00,00,00,00,00,000',\n",
              "       '13669', 'C306', '1,03,06,10,33,11,03,96,00,000', 'C041',\n",
              "       '75,98,07,600', '23,39,62,34,71,23,671', '1,24,20,12,450',\n",
              "       '21,22,52,14,65,21,756', '12084', '1,34,46,13,462', 'S200', 'C178',\n",
              "       '8,46,40,85,24,08,558', '2,61,86,26,470', 'C195', 'C041', 'C481',\n",
              "       '1,00,37,10,488', '84,68,08,530', 'C135', '21,22,52,14,65,21,756',\n",
              "       '20,59,02,580', 'C041', 'C445', 'C551', '11399',\n",
              "       '2,31,84,23,39,62,34,45,00,00,00,00,00,00,000', 'C445', 'C628',\n",
              "       '8,10,10,83,04,08,465', '11465', 'C505', '11465',\n",
              "       '2,61,87,26,43,32,64,64,00,000', 'C445', '1,45,88,17,456', 'C329',\n",
              "       '26,18,72,64,64,26,470', '1,40,84,14,125',\n",
              "       '21,39,02,51,40,25,42,00,000', '76,84,12,688', 'C266',\n",
              "       '2,61,87,26,43,32,64,64,00,000', 'C481', '1,24,20,12,450', '11465',\n",
              "       '1,24,20,12,450', '8,10,10,83,04,08,465', '80,15,08,498', '29416',\n",
              "       '1,04,85,10,884', '10,00,81,04,85,10,884', '11476', '7818',\n",
              "       '17,03,01,70,36,18,706', '84,68,08,530', '11949', '1,24,20,12,450',\n",
              "       '9,08,80,93,11,09,32,70,00,00,00,000',\n",
              "       '1,03,06,10,33,11,03,96,00,000', '14147', 'C195',\n",
              "       '32,58,83,26,84,32,784', '12467', 'C059',\n",
              "       '2,20,78,22,11,92,22,03,00,000', 'C326', 'C601', 'C329', '7480',\n",
              "       '11458', '80,15,08,498', 'C814', '11458', 'C579', '27015', '21685',\n",
              "       '11465', '11465', '20017', '7,04,30,76,12,07,623',\n",
              "       '1,24,20,12,450', 'C814', '2,12,81,21,47,32,16,90,00,000',\n",
              "       '1,11,94,11,433', '1,65,63,32,045', 'C056', '7004', '12084',\n",
              "       '11949', '76,12,07,623', 'C195', '2,12,81,21,47,32,16,90,00,000',\n",
              "       '2,12,81,21,47,32,16,90,00,000',\n",
              "       '10,05,91,01,18,10,33,10,00,00,00,000', '30901', '75029', 'C568',\n",
              "       'C178', '11465', 'C912', 'C195', 'C568', '1,11,94,11,433', 'C505',\n",
              "       'C457', '82,69,08,410', 'C601',\n",
              "       '26,04,12,64,17,26,44,60,00,00,00,000', '10,30,61,03,31,10,444',\n",
              "       '80,22,08,453', '2698', '1,11,80,11,181', 'E218',\n",
              "       '3,16,30,61,00,06,102', '18,20,81,82,44,18,48,00,00,00,00,000',\n",
              "       '2,00,19,20,18,72,07,84,00,00,00,00,00,00,000', '80,22,08,453',\n",
              "       '11465', '2,12,81,21,47,32,16,90,00,000', 'C195',\n",
              "       '2,12,81,21,47,32,16,90,00,000', 'C121A', '10,09,41,04,90,10,492',\n",
              "       '27,01,52,71,04,27,253', '10,09,51,04,45,10,490',\n",
              "       '2,12,81,21,47,32,16,90,00,000', '76,12,07,623', '11378',\n",
              "       '83,04,08,465', 'C481', '1,24,20,12,450',\n",
              "       '2,12,81,21,47,32,16,90,00,000', '28522', '1,10,35,11,065',\n",
              "       '7,58,87,75,890', '28,27,72,84,88,28,662', 'C912',\n",
              "       '7,58,87,75,890', '2,40,19,24,110',\n",
              "       '2,12,81,21,47,32,16,90,00,000', '32,58,83,26,84,32,784',\n",
              "       '32,58,83,26,84,32,784', 'C465', 'C041', 'C943', 'C522', '8453',\n",
              "       'E052A', '1,00,08,10,02,01,04,85,00,000', 'C178', 'C445',\n",
              "       '1,45,88,17,456', '2,12,81,21,47,32,16,90,00,000',\n",
              "       '2,64,64,26,470', '2566', '10475',\n",
              "       '22,56,62,27,90,22,79,10,00,00,00,000', 'C117',\n",
              "       '20,46,22,10,96,21,682', '30901', '32,58,83,26,84,32,784',\n",
              "       '1,10,35,11,065', 'C306', '1,70,12,17,21,01,72,89,00,000',\n",
              "       '9,05,80,90,70,09,458', 'S372', '2909',\n",
              "       '2,12,81,21,47,32,16,90,00,000', '2,33,96,23,471', '8022', '11465',\n",
              "       'E052A', '21,00,72,13,70,21,472', '11,18,01,15,05,11,588',\n",
              "       '20,40,02,34,70,23,99,00,000', '3,01,27,30,901', '2,61,77,26,513',\n",
              "       '2,07,28,21,099', 'C041', '7480', '2,12,81,21,47,32,16,90,00,000',\n",
              "       'C195', '2,33,23,23,39,62,34,45,00,00,00,00,00,00,000',\n",
              "       '8,10,10,83,04,08,465', '70,30,07,34,30,73,69,00,000',\n",
              "       '11,18,01,15,05,11,588', '10,05,91,01,18,10,33,10,00,00,00,000',\n",
              "       '11949', '2,04,00,21,04,02,442', '4672', '10,33,11,04,44,10,646',\n",
              "       'C814', '2,02,00,20,229', '12486', '20,03,02,06,30,22,97,00,000',\n",
              "       'C329', '9579', '3334', '90,04,09,01,40,90,15,00,000',\n",
              "       '10,33,11,04,44,10,646', '75327', 'C117', '2,02,59,22,742',\n",
              "       '25007', '12084', 'C814', '4672', 'C353', 'C329',\n",
              "       '9,08,80,93,11,09,32,70,00,00,00,000', '70,25,07,480',\n",
              "       '20,06,92,07,13,20,759', '2699', 'C195', '1,11,94,11,433',\n",
              "       '2,33,96,23,471', 'C329', '21,28,12,14,73,21,69,00,00,00,00,000',\n",
              "       'C275A', '9,02,10,90,61,09,415', '1,14,20,14,61,01,465',\n",
              "       '1,03,96,10,444', '80,15,08,498', '11465', '7,55,40,76,12,08,362',\n",
              "       '1,24,20,12,450', '2,17,56,22,004', '10,14,11,03,68,10,519',\n",
              "       '70,25,07,480', '8001', '10,14,11,03,68,10,519', 'C551', 'C943',\n",
              "       '8345', '26,18,62,64,64,26,470',\n",
              "       '21,28,12,14,73,21,69,00,00,00,00,000', '2,22,17,22,902',\n",
              "       '2,52,19,25,419', '8,01,50,81,40,08,498', '20,22,02,02,59,21,013',\n",
              "       '22222', '1,11,05,11,556', '16,00,51,60,26,16,455',\n",
              "       '7,58,87,75,890', '1,14,20,14,61,01,465',\n",
              "       '2,33,23,23,39,62,34,45,00,00,00,00,00,00,000', '21685', '11949',\n",
              "       'C598', 'C329', '1,24,20,12,450', '1,45,88,17,456', 'C997',\n",
              "       '10,33,11,04,44,10,646', '1,24,20,12,450', 'S372',\n",
              "       '2,33,23,23,39,62,34,45,00,00,00,00,00,00,000', '7,58,87,75,890',\n",
              "       '1,11,05,11,556',\n",
              "       '23,18,42,33,23,23,39,60,00,00,00,00,00,00,00,00,000', '20915',\n",
              "       '2,33,23,23,32,72,33,96,00,000',\n",
              "       '21,28,12,14,73,21,69,00,00,00,00,000', 'C950', '1,11,05,11,556',\n",
              "       'S372', '21,28,12,14,73,21,69,00,00,00,00,000', 'C329',\n",
              "       '21,37,02,14,36,21,447', 'C041', '2,33,96,23,471',\n",
              "       '7,00,30,76,23,07,684', '72,33,07,486',\n",
              "       '1,03,31,10,39,61,04,44,00,000', '11949', '2,33,96,23,471', 'C107',\n",
              "       '8101', 'C329', 'C056', '20915', '1,04,85,10,884', '12467',\n",
              "       '1,40,07,14,037', 'C329', 'C445', 'C270', 'C445', 'E218', 'C522',\n",
              "       'C275A', 'C178',\n",
              "       '23,18,42,33,23,23,39,60,00,00,00,00,00,00,00,00,000',\n",
              "       '8,46,40,85,24,08,558', '21001', '7,58,87,75,890',\n",
              "       '2,33,23,23,39,62,34,45,00,00,00,00,00,00,000', 'C026',\n",
              "       '76,30,07,684', '80,01,08,712', 'C041', '76,15,07,818',\n",
              "       '10,14,11,03,68,10,519', '32,58,83,26,84,32,784', '75841',\n",
              "       '30,75,03,16,30,38,53,00,000', 'C329', 'C481', '21907',\n",
              "       '1,70,25,17,43,21,74,60,00,000', 'C601', '30,08,03,417', 'E225',\n",
              "       '2,33,96,23,471', 'C329', '75550', '70,21,07,554',\n",
              "       '7,58,87,75,890', '72,33,07,486', '2,33,96,23,471', 'C244', 'S372',\n",
              "       '90,17,09,419', '13,36,91,34,14,13,915', '80,36,08,072',\n",
              "       '8,10,10,83,04,08,465',\n",
              "       '2,33,23,23,39,62,34,45,00,00,00,00,00,00,000',\n",
              "       '17,44,51,75,28,17,54,90,00,00,00,000', '20017', '2,31,37,23,396',\n",
              "       '80,62,08,34,50,84,68,00,000', '2,22,22,22,27,82,25,27,00,000',\n",
              "       'C306', '1,00,95,10,445', '30,01,83,00,34,30,533', '11949',\n",
              "       '2,33,96,23,471', 'C598', '2776', 'C481', 'C481', '12467', '11465',\n",
              "       '1,24,20,12,450', '14037', 'C329',\n",
              "       '1,74,45,17,52,81,75,49,00,00,00,00,00,00,000', 'C536',\n",
              "       '16,40,91,64,55,16,464', '80,36,08,453', '1,24,20,12,450', 'C329',\n",
              "       'C326', '2,01,64,22,790', 'C814', '80,15,08,498',\n",
              "       '1,58,54,21,09,92,11,99,00,000', '1,10,35,11,065',\n",
              "       '4,10,80,41,21,04,839', '90,17,09,419', '11458', 'C041', 'C041',\n",
              "       'C329', '1,11,05,11,556', 'C195'], dtype='<U104')"
            ]
          },
          "metadata": {},
          "execution_count": 263
        }
      ]
    },
    {
      "cell_type": "code",
      "source": [
        "import re\n",
        "\n",
        "def maybeMakeNumber(s):\n",
        "    \"\"\"Returns a string 's' into a integer if possible, a float if needed or\n",
        "    returns it as is.\"\"\"\n",
        "    s = s.replace(',', '')\n",
        "\n",
        "    # handle None, \"\", 0\n",
        "    if not s:\n",
        "        return 0\n",
        "\n",
        "    #If the string contains any letter, 0 is returned\n",
        "    if re.search('[a-zA-Z]', s):\n",
        "      return 0\n",
        "\n",
        "    try:\n",
        "        i = int(s)\n",
        "        if i/i!=1:\n",
        "          return 'null'\n",
        "        else:\n",
        "          return i \n",
        "    except ValueError:\n",
        "        return s"
      ],
      "metadata": {
        "id": "6UHrccchV1Ul"
      },
      "id": "6UHrccchV1Ul",
      "execution_count": null,
      "outputs": []
    },
    {
      "cell_type": "code",
      "source": [
        "s_served = list(map(maybeMakeNumber, bb.column('Schools_Serviced')))\n",
        "print(s_served)"
      ],
      "metadata": {
        "colab": {
          "base_uri": "https://localhost:8080/"
        },
        "id": "zdE_c90oa-Xs",
        "outputId": "19160857-5efd-4593-e4e5-52cd5148fa77"
      },
      "id": "zdE_c90oa-Xs",
      "execution_count": null,
      "outputs": [
        {
          "output_type": "stream",
          "name": "stdout",
          "text": [
            "[2817428220, 24385, 24005, 1114411685, 802308613, 24385, 24005, 748607487, 1114411685, 2033, 748607487, 8613, 11003, 748607487, 748607487, 748607487, 748607487, 748607487, 748607487, 759707688, 7688, 1137811727, 802308613, 1137811727, 2903529095, 2516325405, 11949, 1106811153, 8613, 8345, 802308454, 759707688, 1137811727, 723307672, 748607487, 1111111454, 748607487, 70210768412688, 8619, 11648, 3001730321, 7688, 2207822431, 1101411169, 8345, 759707688, 723307672, 2123921727, 2776, 723307672, 24005, 1137811727, 2146221445, 214452146221727, 290022903529095, 723307672, 2900229131, 759707688, 1103511065, 1100311175, 29251, 1137811727, 2219722634, 7233, 8345, 12007, 85470861308619, 702107688, 761507684, 28037280722833200000, 7818, 2223422255, 8345, 8345, 759707688, 861308619, 761207623, 212122123921684, 8345, 0, 1101411169, 2903529095, 8345, 1400714037, 2903529131, 7005072960744900000, 1103511065, 8345, 290022903529095, 8345, 290022903529095, 8345, 761207623, 8345, 114541152911532, 8345, 761207623, 723307359, 7818, 2903529095, 2903529095, 761207623, 802308613, 0, 0, 29147, 761207623, 0, 1115311160, 72980755407623, 1103511065, 7688, 2776, 0, 14300144521456200000, 7818, 70210736407615, 1101411169, 12456, 301103422, 241992432524343, 0, 0, 800808367083750000000000, 0, 1048510884, 1118011505, 174451752817549000000000000000, 0, 0, 0, 12486, 2776, 702507480, 0, 0, 0, 10599, 0, 174451752817549000000000000000, 3014930227, 301663051230577, 14588, 0, 7818, 2318423396234450000000000, 0, 508505123, 7818, 0, 290022903529095, 2903529095, 0, 111691125511665, 84640852408558, 174451752817549000000000000000, 0, 761207623, 2339623445234600000000000, 0, 761207623, 174451752817549000000000000000, 7480, 1405014414, 80620846808530, 233962347123671, 1048510884, 8008083670837500000, 1744517528175490000000000, 9555, 174451752817549000000000000000, 1458817456, 0, 0, 29251, 0, 2072823848, 2318423396234450000000000, 12214, 12467, 3579, 0, 0, 15406, 0, 1100611083, 8345, 0, 0, 7005072960744900000, 0, 0, 2903529095, 233962347123671, 801508498, 1103511065, 12486, 8001, 12467, 0, 0, 2123921281, 2200122014, 7480, 748607487, 0, 1103511065, 0, 12486, 0, 0, 0, 1048510884, 2911629268, 0, 2918129462, 0, 0, 801508498, 11570, 11949, 0, 1008010095, 0, 3749, 11465, 12467, 1008610340103420000000000, 12486, 11455, 13875, 29147, 0, 174451752817549000000000000000, 0, 1048510884, 801508498, 20535, 0, 12007, 290022903529095, 1400714037, 0, 0, 12084, 290022903529095, 1400714037, 0, 8001, 0, 2339623445234600000000000, 264402645926505, 0, 80150814008498, 0, 0, 0, 290022903529095, 0, 27043273022749000000, 7480, 0, 233232339623445000000000000000, 12084, 1504515371154810000000000, 2000620030, 174451752817549000000000000000, 801508498, 14300144521456200000, 2903529095, 0, 2317823460235990000000000, 340605085, 1103511065, 0, 174451752817549000000000000000, 2903529095, 1103511065, 1402314297143180000000000, 84640852408558, 1101211737, 11465, 16687, 174451752817549000000000000000, 7688, 1048510884, 12084, 11458, 0, 103061033110444, 70350834508688, 84640852408558, 2903529095, 2339623445234600000000000, 0, 11458, 2903529095, 0, 748607487, 0, 29147, 15007150881546000000, 1103511065, 12084, 1110511556, 1656417161, 1108911144, 2903529095, 1048510884, 0, 0, 0, 0, 0, 8001, 131411343913453, 12084, 0, 0, 0, 12084, 0, 0, 516105514, 0, 0, 0, 100941049010492, 0, 1242012450, 15404, 0, 1242012450, 205902580, 11465, 103061033110444, 761207623, 0, 12084, 800808367083750000000000, 1242012450, 1048510884, 75540761208362, 702507480, 826908410, 2128121473216900000000000, 11399, 1411014719, 12084, 723307672, 7480, 7480, 11458, 0, 12467, 15024153711548100000, 0, 1400714037, 2110121281214730000000000, 0, 7480, 0, 10306103311039600000, 12214, 0, 9003090201139910000, 11458, 2900229131, 7480, 1118011505, 0, 0, 0, 0, 12084, 12084, 802208453, 0, 0, 0, 2910929136, 120611219012251000000000000000, 0, 80620846808530, 103061033110444, 0, 1242012450, 12084, 0, 12486, 1242012450, 1242012450, 11465, 0, 7480, 7480, 12084, 103061033110444, 7005072960744900000, 8362, 12486, 12084, 0, 0, 0, 0, 1242012450, 1108911144, 12084, 12084, 7480, 2128121473216900000000000, 26187264332646400000, 12084, 7480, 80150814008498, 2110121281214730000000000, 233962347123671, 1008010095, 0, 0, 0, 0, 23184233232339600000000000000000000, 12420, 1048510884, 0, 230032317823460000000000000000, 12420, 0, 1048510884, 214452146221727, 12084, 20205204622109600000, 2146121907, 801508498, 761207623, 0, 12486, 20442205002065400000, 0, 0, 91140946809469, 7480, 12084, 759707688, 0, 802208453, 12084, 0, 0, 0, 371003712, 101411036810519, 116741168311689, 0, 80620846808530, 1405014414, 1700517006171810000000000, 1119411433, 12084, 2401724229, 0, 0, 11465, 26177, 0, 0, 0, 103311044410646, 142571431814435, 1008610307103400000000000, 2502425237, 0, 103061033110444, 27014270422710500000, 212252146521756, 0, 12084, 0, 0, 9579, 100231047510497, 11455, 0, 2189322611226300000000000, 1008010095, 0, 0, 761207623, 1242012450, 7480, 0, 2200122014, 0, 1242012450, 200192018720784000000000000000, 1411014719, 231842339623445000000000000000, 17007173331774100000, 0, 12486, 7480, 0, 101411036810519, 270602709727306, 0, 0, 0, 0, 14414, 1009410490, 0, 2010220441, 1702517460, 0, 1119411433, 0, 0, 0, 0, 0, 748607487, 1242012450, 761207623, 761207623, 231842339623445000000000000000, 1242012450, 7480, 0, 0, 301663051230577, 174451752817549000000000000000, 0, 27351274152747900000, 101411036810519, 75029, 1242012450, 34480345503475, 233962347123671, 0, 0, 3101831020, 2339623471, 11012, 0, 23184233232339600000000000000000000, 301663051230577, 80150814008498, 0, 2776, 2128121473216900000000000, 1400714037, 11465, 0, 7480, 908809311093270000000000, 14132, 80150814008498, 1820818244184800000000000, 7480, 0, 2110121281214730000000000, 103061033110444, 2339623445234600000000000, 20110235802566, 20442205002065400000, 14414, 0, 23184233232339600000000000000000000, 29806, 20442205002065400000, 2339623445234600000000000, 15854210992119900000, 12084, 9003090201139910000, 0, 27043273022749000000, 12420, 7005072960744900000, 0, 12486, 1412014196, 0, 0, 75029, 0, 11465, 0, 0, 802208453, 0, 26177, 12084, 28522, 2339623401, 2111023100241400000, 0, 29147, 0, 7004, 11476, 1700517181, 22446, 12084, 0, 1458817456, 202052046221682, 1458817456, 0, 26187265252681700000, 0, 0, 8022, 0, 264402645926505, 8362, 0, 0, 2003020630229700000, 0, 70060736412217, 0, 1242012450, 2100721090213700000000000, 0, 1003210475, 0, 27351274152747900000, 27014270422710500000, 1400714037, 1242012450, 174451752817549000000000000000, 13669, 0, 10306103311039600000, 0, 759807600, 233962347123671, 1242012450, 212252146521756, 12084, 1344613462, 0, 0, 84640852408558, 2618626470, 0, 0, 0, 1003710488, 846808530, 0, 212252146521756, 205902580, 0, 0, 0, 11399, 231842339623445000000000000000, 0, 0, 81010830408465, 11465, 0, 11465, 26187264332646400000, 0, 1458817456, 0, 261872646426470, 1408414125, 2139025140254200000, 768412688, 0, 26187264332646400000, 0, 1242012450, 11465, 1242012450, 81010830408465, 801508498, 29416, 1048510884, 100081048510884, 11476, 7818, 170301703618706, 846808530, 11949, 1242012450, 908809311093270000000000, 10306103311039600000, 14147, 0, 325883268432784, 12467, 0, 22078221192220300000, 0, 0, 0, 7480, 11458, 801508498, 0, 11458, 0, 27015, 21685, 11465, 11465, 20017, 70430761207623, 1242012450, 0, 21281214732169000000, 1119411433, 1656332045, 0, 7004, 12084, 11949, 761207623, 0, 21281214732169000000, 21281214732169000000, 1005910118103310000000000, 30901, 75029, 0, 0, 11465, 0, 0, 0, 1119411433, 0, 0, 826908410, 0, 2604126417264460000000000, 103061033110444, 802208453, 2698, 1118011181, 0, 31630610006102, 1820818244184800000000000, 200192018720784000000000000000, 802208453, 11465, 21281214732169000000, 0, 21281214732169000000, 0, 100941049010492, 270152710427253, 100951044510490, 21281214732169000000, 761207623, 11378, 830408465, 0, 1242012450, 21281214732169000000, 28522, 1103511065, 7588775890, 282772848828662, 0, 7588775890, 2401924110, 21281214732169000000, 325883268432784, 325883268432784, 0, 0, 0, 0, 8453, 0, 10008100201048500000, 0, 0, 1458817456, 21281214732169000000, 2646426470, 2566, 10475, 2256622790227910000000000, 0, 204622109621682, 30901, 325883268432784, 1103511065, 0, 17012172101728900000, 90580907009458, 0, 2909, 21281214732169000000, 2339623471, 8022, 11465, 0, 210072137021472, 111801150511588, 2040023470239900000, 3012730901, 2617726513, 2072821099, 0, 7480, 21281214732169000000, 0, 233232339623445000000000000000, 81010830408465, 7030073430736900000, 111801150511588, 1005910118103310000000000, 11949, 20400210402442, 4672, 103311044410646, 0, 2020020229, 12486, 2003020630229700000, 0, 9579, 3334, 9004090140901500000, 103311044410646, 75327, 0, 2025922742, 25007, 12084, 0, 4672, 0, 0, 908809311093270000000000, 702507480, 200692071320759, 2699, 0, 1119411433, 2339623471, 0, 2128121473216900000000000, 0, 90210906109415, 11420146101465, 1039610444, 801508498, 11465, 75540761208362, 1242012450, 2175622004, 101411036810519, 702507480, 8001, 101411036810519, 0, 0, 8345, 261862646426470, 2128121473216900000000000, 2221722902, 2521925419, 80150814008498, 202202025921013, 22222, 1110511556, 160051602616455, 7588775890, 11420146101465, 233232339623445000000000000000, 21685, 11949, 0, 0, 1242012450, 1458817456, 0, 103311044410646, 1242012450, 0, 233232339623445000000000000000, 7588775890, 1110511556, 23184233232339600000000000000000000, 20915, 23323233272339600000, 2128121473216900000000000, 0, 1110511556, 0, 2128121473216900000000000, 0, 213702143621447, 0, 2339623471, 70030762307684, 723307486, 10331103961044400000, 11949, 2339623471, 0, 8101, 0, 0, 20915, 1048510884, 12467, 1400714037, 0, 0, 0, 0, 0, 0, 0, 0, 23184233232339600000000000000000000, 84640852408558, 21001, 7588775890, 233232339623445000000000000000, 0, 763007684, 800108712, 0, 761507818, 101411036810519, 325883268432784, 75841, 3075031630385300000, 0, 0, 21907, 17025174321746000000, 0, 300803417, 0, 2339623471, 0, 75550, 702107554, 7588775890, 723307486, 2339623471, 0, 0, 901709419, 133691341413915, 803608072, 81010830408465, 233232339623445000000000000000, 1744517528175490000000000, 20017, 2313723396, 8062083450846800000, 22222222782252700000, 0, 1009510445, 300183003430533, 11949, 2339623471, 0, 2776, 0, 0, 12467, 11465, 1242012450, 14037, 0, 174451752817549000000000000000, 0, 164091645516464, 803608453, 1242012450, 0, 0, 2016422790, 0, 801508498, 15854210992119900000, 1103511065, 41080412104839, 901709419, 11458, 0, 0, 0, 1110511556, 0]\n"
          ]
        }
      ]
    },
    {
      "cell_type": "code",
      "source": [
        ""
      ],
      "metadata": {
        "colab": {
          "base_uri": "https://localhost:8080/",
          "height": 165
        },
        "id": "QDTZBH23IU-J",
        "outputId": "c041f946-0f20-4bb4-88de-f130d61f9ab6"
      },
      "id": "QDTZBH23IU-J",
      "execution_count": null,
      "outputs": [
        {
          "output_type": "error",
          "ename": "AttributeError",
          "evalue": "ignored",
          "traceback": [
            "\u001b[0;31m---------------------------------------------------------------------------\u001b[0m",
            "\u001b[0;31mAttributeError\u001b[0m                            Traceback (most recent call last)",
            "\u001b[0;32m<ipython-input-277-e642b851002b>\u001b[0m in \u001b[0;36m<module>\u001b[0;34m()\u001b[0m\n\u001b[0;32m----> 1\u001b[0;31m \u001b[0ms_served\u001b[0m\u001b[0;34m.\u001b[0m\u001b[0mhist\u001b[0m\u001b[0;34m(\u001b[0m\u001b[0;34m)\u001b[0m\u001b[0;34m\u001b[0m\u001b[0;34m\u001b[0m\u001b[0m\n\u001b[0m",
            "\u001b[0;31mAttributeError\u001b[0m: 'list' object has no attribute 'hist'"
          ]
        }
      ]
    },
    {
      "cell_type": "markdown",
      "source": [
        "## Drastically Different Mean and Median"
      ],
      "metadata": {
        "id": "JrBzt6_lbVBb"
      },
      "id": "JrBzt6_lbVBb"
    },
    {
      "cell_type": "code",
      "source": [
        "np.mean(s_served), np.median(s_se rved)"
      ],
      "metadata": {
        "colab": {
          "base_uri": "https://localhost:8080/"
        },
        "id": "bKqDT1itbCq-",
        "outputId": "8c5c1419-f89a-4b16-86e2-e46010656405"
      },
      "id": "bKqDT1itbCq-",
      "execution_count": null,
      "outputs": [
        {
          "output_type": "execute_result",
          "data": {
            "text/plain": [
              "(1.1592610560048956e+32, 205902580.0)"
            ]
          },
          "metadata": {},
          "execution_count": 266
        }
      ]
    },
    {
      "cell_type": "markdown",
      "source": [
        "### Further Analysis With the 'Schools_Serviced' Column is not performed due to vague values of mean and median."
      ],
      "metadata": {
        "id": "6Fymg8uZgfmI"
      },
      "id": "6Fymg8uZgfmI"
    },
    {
      "cell_type": "code",
      "execution_count": null,
      "id": "13d4d7d0",
      "metadata": {
        "colab": {
          "base_uri": "https://localhost:8080/",
          "height": 300
        },
        "id": "13d4d7d0",
        "outputId": "fa71559d-7cdb-46a7-b0b8-92d31bfb8eda"
      },
      "outputs": [
        {
          "output_type": "execute_result",
          "data": {
            "text/plain": [
              "Boro          | 0-15 Min | 16-30 Min | 31-45 Min | 46-60 Min | 61-90 Min | nan\n",
              "All Boroughs  | 1        | 0         | 0         | 0         | 0         | 0\n",
              "Bronx         | 211      | 245       | 54        | 24        | 4         | 9\n",
              "Brooklyn      | 11       | 140       | 65        | 47        | 31        | 13\n",
              "Manhattan     | 6        | 9         | 4         | 7         | 2         | 3\n",
              "Nassau County | 2        | 8         | 1         | 3         | 0         | 0\n",
              "Queens        | 2        | 48        | 22        | 9         | 5         | 10\n",
              "Staten Island | 0        | 1         | 0         | 0         | 0         | 0\n",
              "Westchester   | 1        | 0         | 0         | 0         | 2         | 0"
            ],
            "text/html": [
              "<table border=\"1\" class=\"dataframe\">\n",
              "    <thead>\n",
              "        <tr>\n",
              "            <th>Boro</th> <th>0-15 Min</th> <th>16-30 Min</th> <th>31-45 Min</th> <th>46-60 Min</th> <th>61-90 Min</th> <th>nan</th>\n",
              "        </tr>\n",
              "    </thead>\n",
              "    <tbody>\n",
              "        <tr>\n",
              "            <td>All Boroughs </td> <td>1       </td> <td>0        </td> <td>0        </td> <td>0        </td> <td>0        </td> <td>0   </td>\n",
              "        </tr>\n",
              "        <tr>\n",
              "            <td>Bronx        </td> <td>211     </td> <td>245      </td> <td>54       </td> <td>24       </td> <td>4        </td> <td>9   </td>\n",
              "        </tr>\n",
              "        <tr>\n",
              "            <td>Brooklyn     </td> <td>11      </td> <td>140      </td> <td>65       </td> <td>47       </td> <td>31       </td> <td>13  </td>\n",
              "        </tr>\n",
              "        <tr>\n",
              "            <td>Manhattan    </td> <td>6       </td> <td>9        </td> <td>4        </td> <td>7        </td> <td>2        </td> <td>3   </td>\n",
              "        </tr>\n",
              "        <tr>\n",
              "            <td>Nassau County</td> <td>2       </td> <td>8        </td> <td>1        </td> <td>3        </td> <td>0        </td> <td>0   </td>\n",
              "        </tr>\n",
              "        <tr>\n",
              "            <td>Queens       </td> <td>2       </td> <td>48       </td> <td>22       </td> <td>9        </td> <td>5        </td> <td>10  </td>\n",
              "        </tr>\n",
              "        <tr>\n",
              "            <td>Staten Island</td> <td>0       </td> <td>1        </td> <td>0        </td> <td>0        </td> <td>0        </td> <td>0   </td>\n",
              "        </tr>\n",
              "        <tr>\n",
              "            <td>Westchester  </td> <td>1       </td> <td>0        </td> <td>0        </td> <td>0        </td> <td>2        </td> <td>0   </td>\n",
              "        </tr>\n",
              "    </tbody>\n",
              "</table>"
            ]
          },
          "metadata": {},
          "execution_count": 267
        }
      ],
      "source": [
        "#HeatMap Candidate\n",
        "#Number of times in the year 2021 that a bus with 10-100 children was delayed for each Boro\n",
        "\n",
        "bb_delay = bb.pivot('How_Long_Delayed', 'Boro')\n",
        "bb_delay"
      ]
    },
    {
      "cell_type": "code",
      "execution_count": null,
      "id": "11f8e556",
      "metadata": {
        "id": "11f8e556"
      },
      "outputs": [],
      "source": [
        ""
      ]
    },
    {
      "cell_type": "code",
      "execution_count": null,
      "id": "f928aee9",
      "metadata": {
        "colab": {
          "base_uri": "https://localhost:8080/",
          "height": 392
        },
        "id": "f928aee9",
        "outputId": "59f2b261-e4ab-4ed8-8408-5e97175a91d9"
      },
      "outputs": [
        {
          "output_type": "execute_result",
          "data": {
            "text/plain": [
              "How_Long_Delayed | Boro\n",
              "61-90 Min        | Queens\n",
              "16-30 Min        | Queens\n",
              "0-15 Min         | Queens\n",
              "0-15 Min         | Bronx\n",
              "16-30 Min        | Bronx\n",
              "16-30 Min        | Queens\n",
              "16-30 Min        | Queens\n",
              "0-15 Min         | Bronx\n",
              "0-15 Min         | Bronx\n",
              "nan              | Manhattan\n",
              "... (990 rows omitted)"
            ],
            "text/html": [
              "<table border=\"1\" class=\"dataframe\">\n",
              "    <thead>\n",
              "        <tr>\n",
              "            <th>How_Long_Delayed</th> <th>Boro</th>\n",
              "        </tr>\n",
              "    </thead>\n",
              "    <tbody>\n",
              "        <tr>\n",
              "            <td>61-90 Min       </td> <td>Queens   </td>\n",
              "        </tr>\n",
              "        <tr>\n",
              "            <td>16-30 Min       </td> <td>Queens   </td>\n",
              "        </tr>\n",
              "        <tr>\n",
              "            <td>0-15 Min        </td> <td>Queens   </td>\n",
              "        </tr>\n",
              "        <tr>\n",
              "            <td>0-15 Min        </td> <td>Bronx    </td>\n",
              "        </tr>\n",
              "        <tr>\n",
              "            <td>16-30 Min       </td> <td>Bronx    </td>\n",
              "        </tr>\n",
              "        <tr>\n",
              "            <td>16-30 Min       </td> <td>Queens   </td>\n",
              "        </tr>\n",
              "        <tr>\n",
              "            <td>16-30 Min       </td> <td>Queens   </td>\n",
              "        </tr>\n",
              "        <tr>\n",
              "            <td>0-15 Min        </td> <td>Bronx    </td>\n",
              "        </tr>\n",
              "        <tr>\n",
              "            <td>0-15 Min        </td> <td>Bronx    </td>\n",
              "        </tr>\n",
              "        <tr>\n",
              "            <td>nan             </td> <td>Manhattan</td>\n",
              "        </tr>\n",
              "    </tbody>\n",
              "</table>\n",
              "<p>... (990 rows omitted)</p>"
            ]
          },
          "metadata": {},
          "execution_count": 268
        }
      ],
      "source": [
        "interval = bb.select('How_Long_Delayed', 'Boro')\n",
        "interval"
      ]
    },
    {
      "cell_type": "code",
      "source": [
        "bb10_100 = bb.where('Number_Of_Students_On_The_Bus', are.between(10,100))\n",
        "bb10_100"
      ],
      "metadata": {
        "colab": {
          "base_uri": "https://localhost:8080/",
          "height": 760
        },
        "id": "EKn7VD3__vdk",
        "outputId": "fe784953-c9ed-4b24-fe6c-2147d1b445fa"
      },
      "id": "EKn7VD3__vdk",
      "execution_count": null,
      "outputs": [
        {
          "output_type": "execute_result",
          "data": {
            "text/plain": [
              "School_Year | Busbreakdown_ID | Run_Type          | Bus_No | Route_Number | Reason             | Schools_Serviced | Occurred_On            | Created_On             | Boro      | Bus_Company_Name            | How_Long_Delayed | Number_Of_Students_On_The_Bus | Has_Contractor_Notified_Schools | Has_Contractor_Notified_Parents | Have_You_Alerted_OPT | Informed_On            | Incident_Number | Last_Updated_On | Breakdown_or_Running_Late | School_Age_or_PreK\n",
              "2021-2022   | 1668746         | General Ed AM Run | 1767   | Q2844        | Problem Run        | 2,81,74,28,220   | 10/07/2021 8:00        | 10/07/2021 8:18        | Queens    | JOFAZ TRANSPORTATION INC.   | 61-90 Min        | 60                            | Yes                             | No                              | No                   | 10/07/2021 8:18        | nan             | 10/07/2021 8:24 | Running Late              | School-Age\n",
              "2021-2022   | 1674317         | General Ed AM Run | 91201  | Q2215        | Heavy Traffic      | 24385            | 10/25/2021 07:15:00 AM | 10/25/2021 07:19:00 AM | Queens    | EMPIRE STATE BUS CORP.      | 16-30 Min        | 55                            | No                              | No                              | No                   | 10/25/2021 07:19:00 AM | nan             | 01/01/1900 0:00 | Running Late              | School-Age\n",
              "2021-2022   | 1679289         | General Ed AM Run | 71810  | Q2216        | Other              | 24005            | 11/05/2021 8:00        | 11/05/2021 8:09        | Queens    | EMPIRE STATE BUS CORP.      | 0-15 Min         | 55                            | No                              | No                              | No                   | 11/05/2021 8:09        | nan             | 01/01/1900 0:00 | Running Late              | School-Age\n",
              "2021-2022   | 1687135         | General Ed AM Run | 784    | X2073        | Heavy Traffic      | 1,11,44,11,685   | 12/06/2021 8:07        | 12/06/2021 8:08        | Bronx     | PIONEER TRANSPORTATION CORP | 0-15 Min         | 53                            | Yes                             | No                              | No                   | 12/06/2021 8:08        | nan             | 01/01/1900 0:00 | Running Late              | School-Age\n",
              "2021-2022   | 1666811         | General Ed AM Run | 781    | X2378        | Heavy Traffic      | 80,23,08,613     | 10/01/2021 7:33        | 10/01/2021 7:35        | Bronx     | PIONEER TRANSPORTATION CORP | 16-30 Min        | 49                            | Yes                             | No                              | No                   | 10/01/2021 7:35        | nan             | 01/01/1900 0:00 | Running Late              | School-Age\n",
              "2021-2022   | 1668997         | General Ed AM Run | 41803  | Q2215        | Heavy Traffic      | 24385            | 10/08/2021 6:45        | 10/08/2021 6:58        | Queens    | EMPIRE STATE BUS CORP.      | 16-30 Min        | 45                            | No                              | No                              | No                   | 10/08/2021 6:58        | nan             | 01/01/1900 0:00 | Running Late              | School-Age\n",
              "2021-2022   | 1686574         | General Ed AM Run | 41804  | Q2216        | Heavy Traffic      | 24005            | 12/03/2021 7:45        | 12/03/2021 7:50        | Queens    | EMPIRE STATE BUS CORP.      | 16-30 Min        | 44                            | No                              | No                              | No                   | 12/03/2021 7:50        | nan             | 01/01/1900 0:00 | Running Late              | School-Age\n",
              "2021-2022   | 1680892         | General Ed AM Run | 6017   | X2056        | Heavy Traffic      | 74,86,07,487     | 11/10/2021 7:54        | 11/10/2021 7:55        | Bronx     | PIONEER TRANSPORTATION CORP | 0-15 Min         | 44                            | Yes                             | No                              | No                   | 11/10/2021 7:55        | nan             | 01/01/1900 0:00 | Running Late              | School-Age\n",
              "2021-2022   | 1676997         | General Ed AM Run | 784    | X2073        | Heavy Traffic      | 1,11,44,11,685   | 10/29/2021 08:07:00 AM | 10/29/2021 08:08:00 AM | Bronx     | PIONEER TRANSPORTATION CORP | 0-15 Min         | 43                            | Yes                             | No                              | No                   | 10/29/2021 08:08:00 AM | nan             | 01/01/1900 0:00 | Running Late              | School-Age\n",
              "2021-2022   | 1685851         | General Ed AM Run | 28764  | M1113        | Mechanical Problem | 2033             | 12/01/2021 8:15        | 12/01/2021 8:25        | Manhattan | SNT BUS INC                 | nan              | 41                            | Yes                             | No                              | No                   | 12/01/2021 8:25        | nan             | 12/01/2021 8:27 | Breakdown                 | School-Age\n",
              "... (990 rows omitted)"
            ],
            "text/html": [
              "<table border=\"1\" class=\"dataframe\">\n",
              "    <thead>\n",
              "        <tr>\n",
              "            <th>School_Year</th> <th>Busbreakdown_ID</th> <th>Run_Type</th> <th>Bus_No</th> <th>Route_Number</th> <th>Reason</th> <th>Schools_Serviced</th> <th>Occurred_On</th> <th>Created_On</th> <th>Boro</th> <th>Bus_Company_Name</th> <th>How_Long_Delayed</th> <th>Number_Of_Students_On_The_Bus</th> <th>Has_Contractor_Notified_Schools</th> <th>Has_Contractor_Notified_Parents</th> <th>Have_You_Alerted_OPT</th> <th>Informed_On</th> <th>Incident_Number</th> <th>Last_Updated_On</th> <th>Breakdown_or_Running_Late</th> <th>School_Age_or_PreK</th>\n",
              "        </tr>\n",
              "    </thead>\n",
              "    <tbody>\n",
              "        <tr>\n",
              "            <td>2021-2022  </td> <td>1668746        </td> <td>General Ed AM Run</td> <td>1767  </td> <td>Q2844       </td> <td>Problem Run       </td> <td>2,81,74,28,220  </td> <td>10/07/2021 8:00       </td> <td>10/07/2021 8:18       </td> <td>Queens   </td> <td>JOFAZ TRANSPORTATION INC.  </td> <td>61-90 Min       </td> <td>60                           </td> <td>Yes                            </td> <td>No                             </td> <td>No                  </td> <td>10/07/2021 8:18       </td> <td>nan            </td> <td>10/07/2021 8:24</td> <td>Running Late             </td> <td>School-Age        </td>\n",
              "        </tr>\n",
              "        <tr>\n",
              "            <td>2021-2022  </td> <td>1674317        </td> <td>General Ed AM Run</td> <td>91201 </td> <td>Q2215       </td> <td>Heavy Traffic     </td> <td>24385           </td> <td>10/25/2021 07:15:00 AM</td> <td>10/25/2021 07:19:00 AM</td> <td>Queens   </td> <td>EMPIRE STATE BUS CORP.     </td> <td>16-30 Min       </td> <td>55                           </td> <td>No                             </td> <td>No                             </td> <td>No                  </td> <td>10/25/2021 07:19:00 AM</td> <td>nan            </td> <td>01/01/1900 0:00</td> <td>Running Late             </td> <td>School-Age        </td>\n",
              "        </tr>\n",
              "        <tr>\n",
              "            <td>2021-2022  </td> <td>1679289        </td> <td>General Ed AM Run</td> <td>71810 </td> <td>Q2216       </td> <td>Other             </td> <td>24005           </td> <td>11/05/2021 8:00       </td> <td>11/05/2021 8:09       </td> <td>Queens   </td> <td>EMPIRE STATE BUS CORP.     </td> <td>0-15 Min        </td> <td>55                           </td> <td>No                             </td> <td>No                             </td> <td>No                  </td> <td>11/05/2021 8:09       </td> <td>nan            </td> <td>01/01/1900 0:00</td> <td>Running Late             </td> <td>School-Age        </td>\n",
              "        </tr>\n",
              "        <tr>\n",
              "            <td>2021-2022  </td> <td>1687135        </td> <td>General Ed AM Run</td> <td>784   </td> <td>X2073       </td> <td>Heavy Traffic     </td> <td>1,11,44,11,685  </td> <td>12/06/2021 8:07       </td> <td>12/06/2021 8:08       </td> <td>Bronx    </td> <td>PIONEER TRANSPORTATION CORP</td> <td>0-15 Min        </td> <td>53                           </td> <td>Yes                            </td> <td>No                             </td> <td>No                  </td> <td>12/06/2021 8:08       </td> <td>nan            </td> <td>01/01/1900 0:00</td> <td>Running Late             </td> <td>School-Age        </td>\n",
              "        </tr>\n",
              "        <tr>\n",
              "            <td>2021-2022  </td> <td>1666811        </td> <td>General Ed AM Run</td> <td>781   </td> <td>X2378       </td> <td>Heavy Traffic     </td> <td>80,23,08,613    </td> <td>10/01/2021 7:33       </td> <td>10/01/2021 7:35       </td> <td>Bronx    </td> <td>PIONEER TRANSPORTATION CORP</td> <td>16-30 Min       </td> <td>49                           </td> <td>Yes                            </td> <td>No                             </td> <td>No                  </td> <td>10/01/2021 7:35       </td> <td>nan            </td> <td>01/01/1900 0:00</td> <td>Running Late             </td> <td>School-Age        </td>\n",
              "        </tr>\n",
              "        <tr>\n",
              "            <td>2021-2022  </td> <td>1668997        </td> <td>General Ed AM Run</td> <td>41803 </td> <td>Q2215       </td> <td>Heavy Traffic     </td> <td>24385           </td> <td>10/08/2021 6:45       </td> <td>10/08/2021 6:58       </td> <td>Queens   </td> <td>EMPIRE STATE BUS CORP.     </td> <td>16-30 Min       </td> <td>45                           </td> <td>No                             </td> <td>No                             </td> <td>No                  </td> <td>10/08/2021 6:58       </td> <td>nan            </td> <td>01/01/1900 0:00</td> <td>Running Late             </td> <td>School-Age        </td>\n",
              "        </tr>\n",
              "        <tr>\n",
              "            <td>2021-2022  </td> <td>1686574        </td> <td>General Ed AM Run</td> <td>41804 </td> <td>Q2216       </td> <td>Heavy Traffic     </td> <td>24005           </td> <td>12/03/2021 7:45       </td> <td>12/03/2021 7:50       </td> <td>Queens   </td> <td>EMPIRE STATE BUS CORP.     </td> <td>16-30 Min       </td> <td>44                           </td> <td>No                             </td> <td>No                             </td> <td>No                  </td> <td>12/03/2021 7:50       </td> <td>nan            </td> <td>01/01/1900 0:00</td> <td>Running Late             </td> <td>School-Age        </td>\n",
              "        </tr>\n",
              "        <tr>\n",
              "            <td>2021-2022  </td> <td>1680892        </td> <td>General Ed AM Run</td> <td>6017  </td> <td>X2056       </td> <td>Heavy Traffic     </td> <td>74,86,07,487    </td> <td>11/10/2021 7:54       </td> <td>11/10/2021 7:55       </td> <td>Bronx    </td> <td>PIONEER TRANSPORTATION CORP</td> <td>0-15 Min        </td> <td>44                           </td> <td>Yes                            </td> <td>No                             </td> <td>No                  </td> <td>11/10/2021 7:55       </td> <td>nan            </td> <td>01/01/1900 0:00</td> <td>Running Late             </td> <td>School-Age        </td>\n",
              "        </tr>\n",
              "        <tr>\n",
              "            <td>2021-2022  </td> <td>1676997        </td> <td>General Ed AM Run</td> <td>784   </td> <td>X2073       </td> <td>Heavy Traffic     </td> <td>1,11,44,11,685  </td> <td>10/29/2021 08:07:00 AM</td> <td>10/29/2021 08:08:00 AM</td> <td>Bronx    </td> <td>PIONEER TRANSPORTATION CORP</td> <td>0-15 Min        </td> <td>43                           </td> <td>Yes                            </td> <td>No                             </td> <td>No                  </td> <td>10/29/2021 08:08:00 AM</td> <td>nan            </td> <td>01/01/1900 0:00</td> <td>Running Late             </td> <td>School-Age        </td>\n",
              "        </tr>\n",
              "        <tr>\n",
              "            <td>2021-2022  </td> <td>1685851        </td> <td>General Ed AM Run</td> <td>28764 </td> <td>M1113       </td> <td>Mechanical Problem</td> <td>2033            </td> <td>12/01/2021 8:15       </td> <td>12/01/2021 8:25       </td> <td>Manhattan</td> <td>SNT BUS INC                </td> <td>nan             </td> <td>41                           </td> <td>Yes                            </td> <td>No                             </td> <td>No                  </td> <td>12/01/2021 8:25       </td> <td>nan            </td> <td>12/01/2021 8:27</td> <td>Breakdown                </td> <td>School-Age        </td>\n",
              "        </tr>\n",
              "    </tbody>\n",
              "</table>\n",
              "<p>... (990 rows omitted)</p>"
            ]
          },
          "metadata": {},
          "execution_count": 269
        }
      ]
    },
    {
      "cell_type": "code",
      "execution_count": null,
      "id": "07deec6a",
      "metadata": {
        "colab": {
          "base_uri": "https://localhost:8080/",
          "height": 392
        },
        "id": "07deec6a",
        "outputId": "c304e9b8-2a10-4ab6-9d8f-ade104454819"
      },
      "outputs": [
        {
          "output_type": "execute_result",
          "data": {
            "text/plain": [
              "How_Long_Delayed | Boro     | count\n",
              "16-30 Min        | Bronx    | 245\n",
              "0-15 Min         | Bronx    | 211\n",
              "16-30 Min        | Brooklyn | 140\n",
              "31-45 Min        | Brooklyn | 65\n",
              "31-45 Min        | Bronx    | 54\n",
              "16-30 Min        | Queens   | 48\n",
              "46-60 Min        | Brooklyn | 47\n",
              "61-90 Min        | Brooklyn | 31\n",
              "46-60 Min        | Bronx    | 24\n",
              "31-45 Min        | Queens   | 22\n",
              "... (22 rows omitted)"
            ],
            "text/html": [
              "<table border=\"1\" class=\"dataframe\">\n",
              "    <thead>\n",
              "        <tr>\n",
              "            <th>How_Long_Delayed</th> <th>Boro</th> <th>count</th>\n",
              "        </tr>\n",
              "    </thead>\n",
              "    <tbody>\n",
              "        <tr>\n",
              "            <td>16-30 Min       </td> <td>Bronx   </td> <td>245  </td>\n",
              "        </tr>\n",
              "        <tr>\n",
              "            <td>0-15 Min        </td> <td>Bronx   </td> <td>211  </td>\n",
              "        </tr>\n",
              "        <tr>\n",
              "            <td>16-30 Min       </td> <td>Brooklyn</td> <td>140  </td>\n",
              "        </tr>\n",
              "        <tr>\n",
              "            <td>31-45 Min       </td> <td>Brooklyn</td> <td>65   </td>\n",
              "        </tr>\n",
              "        <tr>\n",
              "            <td>31-45 Min       </td> <td>Bronx   </td> <td>54   </td>\n",
              "        </tr>\n",
              "        <tr>\n",
              "            <td>16-30 Min       </td> <td>Queens  </td> <td>48   </td>\n",
              "        </tr>\n",
              "        <tr>\n",
              "            <td>46-60 Min       </td> <td>Brooklyn</td> <td>47   </td>\n",
              "        </tr>\n",
              "        <tr>\n",
              "            <td>61-90 Min       </td> <td>Brooklyn</td> <td>31   </td>\n",
              "        </tr>\n",
              "        <tr>\n",
              "            <td>46-60 Min       </td> <td>Bronx   </td> <td>24   </td>\n",
              "        </tr>\n",
              "        <tr>\n",
              "            <td>31-45 Min       </td> <td>Queens  </td> <td>22   </td>\n",
              "        </tr>\n",
              "    </tbody>\n",
              "</table>\n",
              "<p>... (22 rows omitted)</p>"
            ]
          },
          "metadata": {},
          "execution_count": 270
        }
      ],
      "source": [
        "time = bb10_100.group(['How_Long_Delayed', 'Boro'])\n",
        "time.sort('count', descending=True)"
      ]
    },
    {
      "cell_type": "code",
      "execution_count": null,
      "id": "e7614dfc",
      "metadata": {
        "id": "e7614dfc",
        "colab": {
          "base_uri": "https://localhost:8080/",
          "height": 1000
        },
        "outputId": "628875ad-26a9-4128-a5d9-c57bba09291c"
      },
      "outputs": [
        {
          "output_type": "display_data",
          "data": {
            "text/plain": [
              "<Figure size 432x1152 with 1 Axes>"
            ],
            "image/png": "[encoded data removed]"
          },
          "metadata": {}
        }
      ],
      "source": [
        "time.sort('count', descending=True).drop('How_Long_Delayed').barh('Boro')"
      ]
    },
    {
      "cell_type": "code",
      "source": [
        "#bb10_100.group('How_Long_Delayed')\n",
        "bb10_100.group('How_Long_Delayed').sort('count', descending=True).barh('How_Long_Delayed')"
      ],
      "metadata": {
        "colab": {
          "base_uri": "https://localhost:8080/",
          "height": 301
        },
        "id": "Fn8QTtRUTimF",
        "outputId": "cc0bdbbd-ae46-460d-a908-e44ce9cdab60"
      },
      "id": "Fn8QTtRUTimF",
      "execution_count": null,
      "outputs": [
        {
          "output_type": "display_data",
          "data": {
            "text/plain": [
              "<Figure size 432x288 with 1 Axes>"
            ],
            "image/png": "[encoded data removed]"
          },
          "metadata": {}
        }
      ]
    },
    {
      "cell_type": "code",
      "source": [
        "bb10_100.group(['Bus_Company_Name']).sort('count', descending=True).show(15)\n",
        "#bb10_100.group(['Bus_Company_Name']).sort('count', descending=True).barh('Bus_Company_Name') "
      ],
      "metadata": {
        "colab": {
          "base_uri": "https://localhost:8080/",
          "height": 549
        },
        "id": "zsSeJevChMka",
        "outputId": "cc3f82e1-a5bd-4816-c35b-2421c28e8ea9"
      },
      "id": "zsSeJevChMka",
      "execution_count": null,
      "outputs": [
        {
          "output_type": "display_data",
          "data": {
            "text/plain": [
              "<IPython.core.display.HTML object>"
            ],
            "text/html": [
              "<table border=\"1\" class=\"dataframe\">\n",
              "    <thead>\n",
              "        <tr>\n",
              "            <th>Bus_Company_Name</th> <th>count</th>\n",
              "        </tr>\n",
              "    </thead>\n",
              "    <tbody>\n",
              "        <tr>\n",
              "            <td>VAN TRANS LLC (B2192)          </td> <td>206  </td>\n",
              "        </tr>\n",
              "        <tr>\n",
              "            <td>PIONEER TRANSPORTATION CORP    </td> <td>181  </td>\n",
              "        </tr>\n",
              "        <tr>\n",
              "            <td>L & M BUS CORP.                </td> <td>117  </td>\n",
              "        </tr>\n",
              "        <tr>\n",
              "            <td>G.V.C., LTD.                   </td> <td>103  </td>\n",
              "        </tr>\n",
              "        <tr>\n",
              "            <td>PRIDE TRANSPORTATION (SCH AGE) </td> <td>63   </td>\n",
              "        </tr>\n",
              "        <tr>\n",
              "            <td>ALLIED TRANSIT CORP.           </td> <td>54   </td>\n",
              "        </tr>\n",
              "        <tr>\n",
              "            <td>CAREFUL BUS SERVICE INC (B2192)</td> <td>39   </td>\n",
              "        </tr>\n",
              "        <tr>\n",
              "            <td>CAREFUL BUS                    </td> <td>38   </td>\n",
              "        </tr>\n",
              "        <tr>\n",
              "            <td>DON THOMAS BUSES, INC.         </td> <td>25   </td>\n",
              "        </tr>\n",
              "        <tr>\n",
              "            <td>SNT BUS INC                    </td> <td>24   </td>\n",
              "        </tr>\n",
              "        <tr>\n",
              "            <td>BORO TRANSIT, INC.             </td> <td>15   </td>\n",
              "        </tr>\n",
              "        <tr>\n",
              "            <td>HOYT TRANSPORTATION CORP.      </td> <td>13   </td>\n",
              "        </tr>\n",
              "        <tr>\n",
              "            <td>GRANDPA`S BUS CO., INC.        </td> <td>10   </td>\n",
              "        </tr>\n",
              "        <tr>\n",
              "            <td>PHILLIPS BUS SERVICE           </td> <td>9    </td>\n",
              "        </tr>\n",
              "        <tr>\n",
              "            <td>EMPIRE STATE BUS CORP.         </td> <td>9    </td>\n",
              "        </tr>\n",
              "    </tbody>\n",
              "</table>\n",
              "<p>... (27 rows omitted)</p>"
            ]
          },
          "metadata": {}
        }
      ]
    },
    {
      "cell_type": "markdown",
      "source": [
        "### Route Number X349 has the highest delays followed by K774"
      ],
      "metadata": {
        "id": "Jp83VtPxi6Qi"
      },
      "id": "Jp83VtPxi6Qi"
    },
    {
      "cell_type": "code",
      "source": [
        "bb10_100.group(['Route_Number']).sort('count', descending=True).show(15)"
      ],
      "metadata": {
        "colab": {
          "base_uri": "https://localhost:8080/",
          "height": 549
        },
        "id": "MQI3aWpVioXp",
        "outputId": "557ac2cd-00e8-471f-c275-50dc3b1714e2"
      },
      "id": "MQI3aWpVioXp",
      "execution_count": null,
      "outputs": [
        {
          "output_type": "display_data",
          "data": {
            "text/plain": [
              "<IPython.core.display.HTML object>"
            ],
            "text/html": [
              "<table border=\"1\" class=\"dataframe\">\n",
              "    <thead>\n",
              "        <tr>\n",
              "            <th>Route_Number</th> <th>count</th>\n",
              "        </tr>\n",
              "    </thead>\n",
              "    <tbody>\n",
              "        <tr>\n",
              "            <td>X349        </td> <td>25   </td>\n",
              "        </tr>\n",
              "        <tr>\n",
              "            <td>K774        </td> <td>21   </td>\n",
              "        </tr>\n",
              "        <tr>\n",
              "            <td>X357        </td> <td>19   </td>\n",
              "        </tr>\n",
              "        <tr>\n",
              "            <td>X027        </td> <td>19   </td>\n",
              "        </tr>\n",
              "        <tr>\n",
              "            <td>Q2906       </td> <td>18   </td>\n",
              "        </tr>\n",
              "        <tr>\n",
              "            <td>5           </td> <td>16   </td>\n",
              "        </tr>\n",
              "        <tr>\n",
              "            <td>X2125       </td> <td>15   </td>\n",
              "        </tr>\n",
              "        <tr>\n",
              "            <td>K971        </td> <td>15   </td>\n",
              "        </tr>\n",
              "        <tr>\n",
              "            <td>K970        </td> <td>14   </td>\n",
              "        </tr>\n",
              "        <tr>\n",
              "            <td>K145        </td> <td>13   </td>\n",
              "        </tr>\n",
              "        <tr>\n",
              "            <td>X2056       </td> <td>12   </td>\n",
              "        </tr>\n",
              "        <tr>\n",
              "            <td>6           </td> <td>12   </td>\n",
              "        </tr>\n",
              "        <tr>\n",
              "            <td>4           </td> <td>12   </td>\n",
              "        </tr>\n",
              "        <tr>\n",
              "            <td>X2280       </td> <td>11   </td>\n",
              "        </tr>\n",
              "        <tr>\n",
              "            <td>X2216       </td> <td>11   </td>\n",
              "        </tr>\n",
              "    </tbody>\n",
              "</table>\n",
              "<p>... (439 rows omitted)</p>"
            ]
          },
          "metadata": {}
        }
      ]
    },
    {
      "cell_type": "markdown",
      "source": [
        "### Bus Number 74630 has a lot of problems."
      ],
      "metadata": {
        "id": "PsBdxo-XjhSa"
      },
      "id": "PsBdxo-XjhSa"
    },
    {
      "cell_type": "code",
      "source": [
        "bb10_100.group(['Bus_No']).sort('count', descending=True).show(5)"
      ],
      "metadata": {
        "colab": {
          "base_uri": "https://localhost:8080/",
          "height": 236
        },
        "id": "DhsPtx2ujTRv",
        "outputId": "9a4dfe2b-94f9-4938-f7f2-627e2855d9d3"
      },
      "id": "DhsPtx2ujTRv",
      "execution_count": null,
      "outputs": [
        {
          "output_type": "display_data",
          "data": {
            "text/plain": [
              "<IPython.core.display.HTML object>"
            ],
            "text/html": [
              "<table border=\"1\" class=\"dataframe\">\n",
              "    <thead>\n",
              "        <tr>\n",
              "            <th>Bus_No</th> <th>count</th>\n",
              "        </tr>\n",
              "    </thead>\n",
              "    <tbody>\n",
              "        <tr>\n",
              "            <td>74630 </td> <td>24   </td>\n",
              "        </tr>\n",
              "        <tr>\n",
              "            <td>50    </td> <td>21   </td>\n",
              "        </tr>\n",
              "        <tr>\n",
              "            <td>74604 </td> <td>19   </td>\n",
              "        </tr>\n",
              "        <tr>\n",
              "            <td>663   </td> <td>15   </td>\n",
              "        </tr>\n",
              "        <tr>\n",
              "            <td>300   </td> <td>15   </td>\n",
              "        </tr>\n",
              "    </tbody>\n",
              "</table>\n",
              "<p>... (486 rows omitted)</p>"
            ]
          },
          "metadata": {}
        }
      ]
    },
    {
      "cell_type": "markdown",
      "source": [
        "### End of Group Analysis "
      ],
      "metadata": {
        "id": "tvST7MXnmw4u"
      },
      "id": "tvST7MXnmw4u"
    },
    {
      "cell_type": "code",
      "source": [
        ""
      ],
      "metadata": {
        "id": "e257JeL6kHN2"
      },
      "id": "e257JeL6kHN2",
      "execution_count": null,
      "outputs": []
    },
    {
      "cell_type": "markdown",
      "source": [
        ""
      ],
      "metadata": {
        "id": "qZsteu1NkG8k"
      },
      "id": "qZsteu1NkG8k"
    },
    {
      "cell_type": "code",
      "execution_count": null,
      "id": "102ad840",
      "metadata": {
        "id": "102ad840"
      },
      "outputs": [],
      "source": [
        "#Requires modification. It does not return the right values \n",
        "#as the date is in MM/DD/YYYY format & not DD/MM/YYYY\n",
        "#Concatenation problem\n",
        "\n",
        "\n",
        "# def month_count(tab1):\n",
        "#   number_of_cases_that_month = []\n",
        "#   m = make_array('01', '02', '03', '04',\n",
        "#                  '05', '06', '07', '08', \n",
        "#                  '09', '10', '11', '12')\n",
        "#   for i in m:    \n",
        "#     count = tab1.where('Occurred_On', are.containing(str(i) + str()+ '/2021')).num_rows\n",
        "#     np.append(number_of_cases_that_month, count)\n",
        "#     print(count)\n",
        "#     #return (number_of_cases_that_month)\n"
      ]
    },
    {
      "cell_type": "code",
      "execution_count": null,
      "id": "7c2d590b",
      "metadata": {
        "id": "7c2d590b"
      },
      "outputs": [],
      "source": [
        ""
      ]
    }
  ],
  "metadata": {
    "kernelspec": {
      "display_name": "Python 3 (ipykernel)",
      "language": "python",
      "name": "python3"
    },
    "language_info": {
      "codemirror_mode": {
        "name": "ipython",
        "version": 3
      },
      "file_extension": ".py",
      "mimetype": "text/x-python",
      "name": "python",
      "nbconvert_exporter": "python",
      "pygments_lexer": "ipython3",
      "version": "3.8.6"
    },
    "colab": {
      "name": "NY Bus Breakdown_Analysis.ipynb",
      "provenance": [],
      "collapsed_sections": [],
      "include_colab_link": true
    }
  },
  "nbformat": 4,
  "nbformat_minor": 5
}